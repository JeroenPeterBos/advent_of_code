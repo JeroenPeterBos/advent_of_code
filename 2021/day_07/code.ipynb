{
 "cells": [
  {
   "cell_type": "code",
   "execution_count": 7,
   "metadata": {},
   "outputs": [
    {
     "data": {
      "text/plain": [
       "329389"
      ]
     },
     "execution_count": 7,
     "metadata": {},
     "output_type": "execute_result"
    }
   ],
   "source": [
    "p = sorted(map(int,next(open('i')).split(',')))\n",
    "m = p[len(p)//2]\n",
    "sum(abs(e-m) for e in p)"
   ]
  },
  {
   "cell_type": "code",
   "execution_count": 2,
   "metadata": {},
   "outputs": [
    {
     "data": {
      "text/plain": [
       "4.9"
      ]
     },
     "execution_count": 2,
     "metadata": {},
     "output_type": "execute_result"
    }
   ],
   "source": [
    "sum(p) / len(p)"
   ]
  },
  {
   "cell_type": "code",
   "execution_count": 48,
   "metadata": {},
   "outputs": [],
   "source": [
    "numbers = [*map(int, next(open('i')).split(','))]\n",
    "numbers = numbers + [850]"
   ]
  },
  {
   "cell_type": "code",
   "execution_count": 49,
   "metadata": {},
   "outputs": [
    {
     "name": "stdout",
     "output_type": "stream",
     "text": [
      "460 86473327.0\n"
     ]
    }
   ],
   "source": [
    "def c(p, d):\n",
    "    a = abs(p-d)\n",
    "    return (a**2 + a) / 2\n",
    "\n",
    "def cost(numbers, destination):\n",
    "    return sum(c(number, destination) for number in numbers)\n",
    "\n",
    "current = min(numbers)\n",
    "current_score = cost(numbers, min(numbers))\n",
    "while True:\n",
    "    n = current + 1\n",
    "    n_score = cost(numbers, n)\n",
    "    if n_score > current_score:\n",
    "        break\n",
    "    current = n\n",
    "    current_score = n_score\n",
    "print(current, current_score)"
   ]
  },
  {
   "cell_type": "code",
   "execution_count": 51,
   "metadata": {},
   "outputs": [
    {
     "data": {
      "text/plain": [
       "459.97902097902096"
      ]
     },
     "execution_count": 51,
     "metadata": {},
     "output_type": "execute_result"
    }
   ],
   "source": [
    "sum(numbers) / (len(numbers))"
   ]
  },
  {
   "cell_type": "code",
   "execution_count": 36,
   "metadata": {},
   "outputs": [
    {
     "name": "stdout",
     "output_type": "stream",
     "text": [
      "168.0\n"
     ]
    }
   ],
   "source": [
    "print(cost(numbers, 5))"
   ]
  },
  {
   "cell_type": "code",
   "execution_count": 14,
   "metadata": {},
   "outputs": [
    {
     "name": "stdout",
     "output_type": "stream",
     "text": [
      "180\n",
      "185\n",
      "185\n"
     ]
    }
   ],
   "source": [
    "a = [3, 3, 3, 3, 18]\n",
    "\n",
    "mean = 6\n",
    "\n",
    "cost = c(3,6) +  + 9 + 9 + 144\n",
    "print(cost)\n",
    "\n",
    "mean = 7\n",
    "cost = 16 + 16 + 16 + 16 + 121\n",
    "print(cost)\n",
    "\n",
    "mean = 5\n",
    "cost = 4 + 4 + 4 + 4 + 169\n",
    "print(cost)\n",
    "\n"
   ]
  },
  {
   "cell_type": "code",
   "execution_count": 13,
   "metadata": {},
   "outputs": [
    {
     "data": {
      "text/plain": [
       "169"
      ]
     },
     "execution_count": 13,
     "metadata": {},
     "output_type": "execute_result"
    }
   ],
   "source": [
    "13 * 13"
   ]
  },
  {
   "cell_type": "code",
   "execution_count": 15,
   "metadata": {},
   "outputs": [
    {
     "name": "stdout",
     "output_type": "stream",
     "text": [
      "54\n",
      "57\n",
      "57\n"
     ]
    }
   ],
   "source": [
    "a = [3, 3, 12]\n",
    "\n",
    "mean = 6\n",
    "\n",
    "cost = 9 + 9 + 36\n",
    "print(cost)\n",
    "\n",
    "mean = 7\n",
    "cost = 16 + 16 + 25\n",
    "print(cost)\n",
    "\n",
    "mean = 5\n",
    "cost = 4 + 4 + 49\n",
    "print(cost)\n"
   ]
  },
  {
   "cell_type": "code",
   "execution_count": 32,
   "metadata": {},
   "outputs": [
    {
     "name": "stdout",
     "output_type": "stream",
     "text": [
      "615\n",
      "610\n",
      "630\n"
     ]
    }
   ],
   "source": [
    "a = [0, 1, 2, 3, 29]\n",
    "\n",
    "mean = 6\n",
    "\n",
    "cost = 36 + 25 + 16 + 9 + 529\n",
    "print(cost)\n",
    "\n",
    "mean = 7\n",
    "cost = 49 + 36 + 25 + 16 + 484\n",
    "print(cost)\n",
    "\n",
    "mean = 5\n",
    "cost = 25 + 16 + 9 + 4 + 576\n",
    "print(cost)"
   ]
  },
  {
   "cell_type": "code",
   "execution_count": null,
   "metadata": {},
   "outputs": [],
   "source": [
    "def cost(a, m):\n",
    "    return sum( )"
   ]
  },
  {
   "cell_type": "code",
   "execution_count": 31,
   "metadata": {},
   "outputs": [
    {
     "data": {
      "text/plain": [
       "576"
      ]
     },
     "execution_count": 31,
     "metadata": {},
     "output_type": "execute_result"
    }
   ],
   "source": [
    "(29-5)**2"
   ]
  },
  {
   "cell_type": "code",
   "execution_count": 29,
   "metadata": {},
   "outputs": [
    {
     "name": "stdout",
     "output_type": "stream",
     "text": [
      "30\n",
      "340\n",
      "350\n",
      "350\n"
     ]
    }
   ],
   "source": [
    "a = [0, 0, 0, 0, 0, 1, 2, 3, 4, 20]\n",
    "print(sum(a))\n",
    "\n",
    "mean = 3\n",
    "\n",
    "cost = 9 + 9 + 9 + 9 + 9 + 4 + 1 + 0 + 1 + 289\n",
    "print(cost)\n",
    "\n",
    "mean = 4\n",
    "cost = 16 + 16 + 16 + 16 + 16 + 9 + 4 + 1 + 256\n",
    "print(cost)\n",
    "\n",
    "mean = 2\n",
    "cost = 4 + 4 + 4 + 4 + 4 + 1 + 0 + 1 + 4 + 324\n",
    "print(cost)"
   ]
  },
  {
   "cell_type": "code",
   "execution_count": 28,
   "metadata": {},
   "outputs": [
    {
     "data": {
      "text/plain": [
       "324"
      ]
     },
     "execution_count": 28,
     "metadata": {},
     "output_type": "execute_result"
    }
   ],
   "source": [
    "18**2"
   ]
  },
  {
   "cell_type": "code",
   "execution_count": null,
   "metadata": {},
   "outputs": [],
   "source": []
  }
 ],
 "metadata": {
  "interpreter": {
   "hash": "2a15b5884ee2cc9180c3fad60afb999633c0c6f349efbc5498ac7868b0ce4ae8"
  },
  "kernelspec": {
   "display_name": "Python 3.8.12 64-bit ('advent_of_code': conda)",
   "language": "python",
   "name": "python3"
  },
  "language_info": {
   "codemirror_mode": {
    "name": "ipython",
    "version": 3
   },
   "file_extension": ".py",
   "mimetype": "text/x-python",
   "name": "python",
   "nbconvert_exporter": "python",
   "pygments_lexer": "ipython3",
   "version": "3.8.12"
  },
  "orig_nbformat": 4
 },
 "nbformat": 4,
 "nbformat_minor": 2
}
