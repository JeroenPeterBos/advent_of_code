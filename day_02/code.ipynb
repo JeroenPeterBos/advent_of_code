{
 "cells": [
  {
   "cell_type": "markdown",
   "metadata": {},
   "source": [
    "# Puzzle 1"
   ]
  },
  {
   "cell_type": "code",
   "execution_count": null,
   "metadata": {},
   "outputs": [
    {
     "name": "stdout",
     "output_type": "stream",
     "text": [
      "1714950\n"
     ]
    }
   ],
   "source": [
    "d,h=0,0\n",
    "l = [a.split() for a in open('i')]\n",
    "for a, b in l:\n",
    "    if a == 'forward':\n",
    "        h += int(b)\n",
    "    if a == 'down':\n",
    "        d += int(b)\n",
    "    if a == 'up':\n",
    "        d -= int(b)\n",
    "\n",
    "print(d*h)\n"
   ]
  },
  {
   "cell_type": "markdown",
   "metadata": {},
   "source": [
    "# Puzzle 2"
   ]
  },
  {
   "cell_type": "code",
   "execution_count": 6,
   "metadata": {},
   "outputs": [
    {
     "name": "stdout",
     "output_type": "stream",
     "text": [
      "1281977850\n"
     ]
    }
   ],
   "source": [
    "d,h,m=0,0,0\n",
    "l = [a.split() for a in open('i')]\n",
    "for a,b in l:\n",
    "    if a == 'forward':\n",
    "        h += int(b)\n",
    "        d += int(b) * m\n",
    "    if a == 'down':\n",
    "        m += int(b)\n",
    "    if a == 'up':\n",
    "        m -= int(b)\n",
    "\n",
    "print(d*h)"
   ]
  },
  {
   "cell_type": "markdown",
   "metadata": {},
   "source": [
    "## Onelining!!!"
   ]
  },
  {
   "cell_type": "code",
   "execution_count": 10,
   "metadata": {},
   "outputs": [
    {
     "data": {
      "text/plain": [
       "[('f', 5), ('d', 5), ('f', 8), ('u', 3), ('d', 8), ('f', 2)]"
      ]
     },
     "execution_count": 10,
     "metadata": {},
     "output_type": "execute_result"
    }
   ],
   "source": [
    "d,h,m,l=0,0,0,[for a,b map(lambda x:((x:=x.split())[0][0],int(x[1])),open('e'))]\n",
    "l"
   ]
  },
  {
   "cell_type": "code",
   "execution_count": 15,
   "metadata": {},
   "outputs": [
    {
     "ename": "SyntaxError",
     "evalue": "invalid syntax (3322662543.py, line 1)",
     "output_type": "error",
     "traceback": [
      "\u001b[0;36m  File \u001b[0;32m\"/var/folders/pr/xrwsh52s27d30qww052h5q1h0000gn/T/ipykernel_5254/3322662543.py\"\u001b[0;36m, line \u001b[0;32m1\u001b[0m\n\u001b[0;31m    d,h,m=0,0,0;l=[h:=h+i,d:=d+i*m if(i:=int(b),a[0]=='f')[1]else(m:=m+i if a[0]=='d' else m:=m-i)for a,b in map(str.split, open('e'))]\u001b[0m\n\u001b[0m                                                                                            ^\u001b[0m\n\u001b[0;31mSyntaxError\u001b[0m\u001b[0;31m:\u001b[0m invalid syntax\n"
     ]
    }
   ],
   "source": [
    "d,h,m=0,0,0;l=[\n",
    "    h:=h+i,d:=d+i*m \n",
    "    if (i:=int(b),a[0]=='f')[1] \n",
    "    else (m:=m+i if a[0]=='d' else m:=m-i)\n",
    "    for a,b in map(str.split, open('e'))\n",
    "]\n",
    "l"
   ]
  },
  {
   "cell_type": "code",
   "execution_count": 12,
   "metadata": {},
   "outputs": [
    {
     "data": {
      "text/plain": [
       "[['forward', '5'],\n",
       " ['down', '5'],\n",
       " ['forward', '8'],\n",
       " ['up', '3'],\n",
       " ['down', '8'],\n",
       " ['forward', '2']]"
      ]
     },
     "execution_count": 12,
     "metadata": {},
     "output_type": "execute_result"
    }
   ],
   "source": [
    "l"
   ]
  },
  {
   "cell_type": "code",
   "execution_count": 32,
   "metadata": {},
   "outputs": [
    {
     "name": "stdout",
     "output_type": "stream",
     "text": [
      "900\n",
      "139\n"
     ]
    }
   ],
   "source": [
    "d,h,m=0,0,0;[(h:=h+i,d:=d+i*m)if(i:=int(l.split()[1]),(c:=l[0]=='f'))[1]else(m:=m+i if l[0]=='d'else(m:=m-i))for l in open('e')];print(d*h)\n",
    "\n",
    "print(len(\"d,h,m=0,0,0;[(h:=h+i,d:=d+i*m)if(i:=int(l.split()[1]),(c:=l[0]=='f'))[1]else(m:=m+i if l[0]=='d'else(m:=m-i))for l in open('e')];print(d*h)\"))"
   ]
  },
  {
   "cell_type": "code",
   "execution_count": 36,
   "metadata": {},
   "outputs": [
    {
     "ename": "UnboundLocalError",
     "evalue": "local variable 'm' referenced before assignment",
     "output_type": "error",
     "traceback": [
      "\u001b[0;31m---------------------------------------------------------------------------\u001b[0m",
      "\u001b[0;31mUnboundLocalError\u001b[0m                         Traceback (most recent call last)",
      "\u001b[0;32m/var/folders/pr/xrwsh52s27d30qww052h5q1h0000gn/T/ipykernel_5254/3936829543.py\u001b[0m in \u001b[0;36m<module>\u001b[0;34m\u001b[0m\n\u001b[0;32m----> 1\u001b[0;31m \u001b[0md\u001b[0m\u001b[0;34m,\u001b[0m\u001b[0mh\u001b[0m\u001b[0;34m,\u001b[0m\u001b[0mm\u001b[0m\u001b[0;34m=\u001b[0m\u001b[0;36m0\u001b[0m\u001b[0;34m,\u001b[0m\u001b[0;36m0\u001b[0m\u001b[0;34m,\u001b[0m\u001b[0;36m0\u001b[0m\u001b[0;34m;\u001b[0m\u001b[0mf\u001b[0m\u001b[0;34m=\u001b[0m\u001b[0;32mlambda\u001b[0m \u001b[0mx\u001b[0m\u001b[0;34m:\u001b[0m\u001b[0;34m(\u001b[0m\u001b[0mh\u001b[0m\u001b[0;34m:=\u001b[0m\u001b[0mh\u001b[0m\u001b[0;34m+\u001b[0m\u001b[0mi\u001b[0m\u001b[0;34m,\u001b[0m\u001b[0md\u001b[0m\u001b[0;34m:=\u001b[0m\u001b[0md\u001b[0m\u001b[0;34m+\u001b[0m\u001b[0mi\u001b[0m\u001b[0;34m*\u001b[0m\u001b[0mm\u001b[0m\u001b[0;34m)\u001b[0m\u001b[0;32mif\u001b[0m\u001b[0;34m(\u001b[0m\u001b[0mi\u001b[0m\u001b[0;34m:=\u001b[0m\u001b[0mint\u001b[0m\u001b[0;34m(\u001b[0m\u001b[0mx\u001b[0m\u001b[0;34m.\u001b[0m\u001b[0msplit\u001b[0m\u001b[0;34m(\u001b[0m\u001b[0;34m)\u001b[0m\u001b[0;34m[\u001b[0m\u001b[0;36m1\u001b[0m\u001b[0;34m]\u001b[0m\u001b[0;34m)\u001b[0m\u001b[0;34m,\u001b[0m\u001b[0;34m(\u001b[0m\u001b[0mc\u001b[0m\u001b[0;34m:=\u001b[0m\u001b[0ml\u001b[0m\u001b[0;34m[\u001b[0m\u001b[0;36m0\u001b[0m\u001b[0;34m]\u001b[0m\u001b[0;34m==\u001b[0m\u001b[0;34m'f'\u001b[0m\u001b[0;34m)\u001b[0m\u001b[0;34m)\u001b[0m\u001b[0;34m[\u001b[0m\u001b[0;36m1\u001b[0m\u001b[0;34m]\u001b[0m\u001b[0;32melse\u001b[0m\u001b[0;34m(\u001b[0m\u001b[0mm\u001b[0m\u001b[0;34m:=\u001b[0m\u001b[0mm\u001b[0m\u001b[0;34m+\u001b[0m\u001b[0mi\u001b[0m \u001b[0;32mif\u001b[0m \u001b[0mx\u001b[0m\u001b[0;34m[\u001b[0m\u001b[0;36m0\u001b[0m\u001b[0;34m]\u001b[0m\u001b[0;34m==\u001b[0m\u001b[0;34m'd'\u001b[0m\u001b[0;32melse\u001b[0m\u001b[0;34m(\u001b[0m\u001b[0mm\u001b[0m\u001b[0;34m:=\u001b[0m\u001b[0mm\u001b[0m\u001b[0;34m-\u001b[0m\u001b[0mi\u001b[0m\u001b[0;34m)\u001b[0m\u001b[0;34m)\u001b[0m\u001b[0;34m;\u001b[0m\u001b[0;34m[\u001b[0m\u001b[0;34m*\u001b[0m\u001b[0mmap\u001b[0m\u001b[0;34m(\u001b[0m\u001b[0mf\u001b[0m\u001b[0;34m,\u001b[0m\u001b[0mopen\u001b[0m\u001b[0;34m(\u001b[0m\u001b[0;34m'e'\u001b[0m\u001b[0;34m)\u001b[0m\u001b[0;34m)\u001b[0m\u001b[0;34m]\u001b[0m\u001b[0;34m\u001b[0m\u001b[0;34m\u001b[0m\u001b[0m\n\u001b[0m",
      "\u001b[0;32m/var/folders/pr/xrwsh52s27d30qww052h5q1h0000gn/T/ipykernel_5254/3936829543.py\u001b[0m in \u001b[0;36m<lambda>\u001b[0;34m(x)\u001b[0m\n\u001b[0;32m----> 1\u001b[0;31m \u001b[0md\u001b[0m\u001b[0;34m,\u001b[0m\u001b[0mh\u001b[0m\u001b[0;34m,\u001b[0m\u001b[0mm\u001b[0m\u001b[0;34m=\u001b[0m\u001b[0;36m0\u001b[0m\u001b[0;34m,\u001b[0m\u001b[0;36m0\u001b[0m\u001b[0;34m,\u001b[0m\u001b[0;36m0\u001b[0m\u001b[0;34m;\u001b[0m\u001b[0mf\u001b[0m\u001b[0;34m=\u001b[0m\u001b[0;32mlambda\u001b[0m \u001b[0mx\u001b[0m\u001b[0;34m:\u001b[0m\u001b[0;34m(\u001b[0m\u001b[0mh\u001b[0m\u001b[0;34m:=\u001b[0m\u001b[0mh\u001b[0m\u001b[0;34m+\u001b[0m\u001b[0mi\u001b[0m\u001b[0;34m,\u001b[0m\u001b[0md\u001b[0m\u001b[0;34m:=\u001b[0m\u001b[0md\u001b[0m\u001b[0;34m+\u001b[0m\u001b[0mi\u001b[0m\u001b[0;34m*\u001b[0m\u001b[0mm\u001b[0m\u001b[0;34m)\u001b[0m\u001b[0;32mif\u001b[0m\u001b[0;34m(\u001b[0m\u001b[0mi\u001b[0m\u001b[0;34m:=\u001b[0m\u001b[0mint\u001b[0m\u001b[0;34m(\u001b[0m\u001b[0mx\u001b[0m\u001b[0;34m.\u001b[0m\u001b[0msplit\u001b[0m\u001b[0;34m(\u001b[0m\u001b[0;34m)\u001b[0m\u001b[0;34m[\u001b[0m\u001b[0;36m1\u001b[0m\u001b[0;34m]\u001b[0m\u001b[0;34m)\u001b[0m\u001b[0;34m,\u001b[0m\u001b[0;34m(\u001b[0m\u001b[0mc\u001b[0m\u001b[0;34m:=\u001b[0m\u001b[0ml\u001b[0m\u001b[0;34m[\u001b[0m\u001b[0;36m0\u001b[0m\u001b[0;34m]\u001b[0m\u001b[0;34m==\u001b[0m\u001b[0;34m'f'\u001b[0m\u001b[0;34m)\u001b[0m\u001b[0;34m)\u001b[0m\u001b[0;34m[\u001b[0m\u001b[0;36m1\u001b[0m\u001b[0;34m]\u001b[0m\u001b[0;32melse\u001b[0m\u001b[0;34m(\u001b[0m\u001b[0mm\u001b[0m\u001b[0;34m:=\u001b[0m\u001b[0mm\u001b[0m\u001b[0;34m+\u001b[0m\u001b[0mi\u001b[0m \u001b[0;32mif\u001b[0m \u001b[0mx\u001b[0m\u001b[0;34m[\u001b[0m\u001b[0;36m0\u001b[0m\u001b[0;34m]\u001b[0m\u001b[0;34m==\u001b[0m\u001b[0;34m'd'\u001b[0m\u001b[0;32melse\u001b[0m\u001b[0;34m(\u001b[0m\u001b[0mm\u001b[0m\u001b[0;34m:=\u001b[0m\u001b[0mm\u001b[0m\u001b[0;34m-\u001b[0m\u001b[0mi\u001b[0m\u001b[0;34m)\u001b[0m\u001b[0;34m)\u001b[0m\u001b[0;34m;\u001b[0m\u001b[0;34m[\u001b[0m\u001b[0;34m*\u001b[0m\u001b[0mmap\u001b[0m\u001b[0;34m(\u001b[0m\u001b[0mf\u001b[0m\u001b[0;34m,\u001b[0m\u001b[0mopen\u001b[0m\u001b[0;34m(\u001b[0m\u001b[0;34m'e'\u001b[0m\u001b[0;34m)\u001b[0m\u001b[0;34m)\u001b[0m\u001b[0;34m]\u001b[0m\u001b[0;34m\u001b[0m\u001b[0;34m\u001b[0m\u001b[0m\n\u001b[0m",
      "\u001b[0;31mUnboundLocalError\u001b[0m: local variable 'm' referenced before assignment"
     ]
    }
   ],
   "source": [
    "d,h,m=0,0,0;f=lambda x:(h:=h+i,d:=d+i*m)if(i:=int(x.split()[1]),(c:=l[0]=='f'))[1]else(m:=m+i if x[0]=='d'else(m:=m-i));[*map(f,open('e'))]"
   ]
  },
  {
   "cell_type": "code",
   "execution_count": 20,
   "metadata": {},
   "outputs": [
    {
     "ename": "SyntaxError",
     "evalue": "cannot use assignment expressions with conditional expression (2682467519.py, line 6)",
     "output_type": "error",
     "traceback": [
      "\u001b[0;36m  File \u001b[0;32m\"/var/folders/pr/xrwsh52s27d30qww052h5q1h0000gn/T/ipykernel_31092/2682467519.py\"\u001b[0;36m, line \u001b[0;32m6\u001b[0m\n\u001b[0;31m    ((d:=d+i*a),(h:=h+i))\u001b[0m\n\u001b[0m    ^\u001b[0m\n\u001b[0;31mSyntaxError\u001b[0m\u001b[0;31m:\u001b[0m cannot use assignment expressions with conditional expression\n"
     ]
    }
   ],
   "source": [
    "d=h=a=0\n",
    "[\n",
    "    (\n",
    "        i:=int(l[-2:]),\n",
    "        (\n",
    "            ((d:=d+i*a),(h:=h+i)) \n",
    "            if l[0]=='f' else \n",
    "            d:=d + ( (l[0]=='d') * 2 - 1)\n",
    "        )\n",
    "    ) \n",
    "    for l in open('e')\n",
    "]"
   ]
  },
  {
   "cell_type": "code",
   "execution_count": 26,
   "metadata": {},
   "outputs": [
    {
     "data": {
      "text/plain": [
       "['forward', 'other', 'forward', 'other', 'other', 'forward']"
      ]
     },
     "execution_count": 26,
     "metadata": {},
     "output_type": "execute_result"
    }
   ],
   "source": [
    "aim = 0\n",
    "[\n",
    "    ()\n",
    "    if (((distance := int(l[-2:])), (first := l[0])) == (distance, 'f')) else \n",
    "    'other'\n",
    "\n",
    "    for l in open('e')\n",
    "]"
   ]
  },
  {
   "cell_type": "code",
   "execution_count": 37,
   "metadata": {},
   "outputs": [
    {
     "name": "stdout",
     "output_type": "stream",
     "text": [
      "900\n"
     ]
    }
   ],
   "source": [
    "aim = 0\n",
    "l = [\n",
    "    (distance, distance * aim)\n",
    "    if (((distance := int(l[-2:])), (first := l[0])) == (distance, 'f')) else \n",
    "    (0, (aim := aim + ((first == 'd') * 2 - 1) * distance ) - aim )\n",
    "\n",
    "    for l in open('e')\n",
    "]\n",
    "x,y=map(sum,zip(*l))\n",
    "print(x*y)\n"
   ]
  },
  {
   "cell_type": "code",
   "execution_count": 39,
   "metadata": {},
   "outputs": [
    {
     "name": "stdout",
     "output_type": "stream",
     "text": [
      "900\n"
     ]
    }
   ],
   "source": [
    "a = 0\n",
    "l = [\n",
    "    (d, d * a)\n",
    "    if (((d := int(l[-2:])), (f:= l[0])) == (d, 'f')) else \n",
    "    (0, (a := a + ((f== 'd') * 2 - 1) * d) - a)\n",
    "\n",
    "    for l in open('e')\n",
    "]\n",
    "x,y=map(sum,zip(*l))\n",
    "print(x*y)"
   ]
  },
  {
   "cell_type": "code",
   "execution_count": 41,
   "metadata": {},
   "outputs": [
    {
     "name": "stdout",
     "output_type": "stream",
     "text": [
      "900\n"
     ]
    }
   ],
   "source": [
    "a=0;x,y=map(sum,zip(*[(d,d*a)if(((d:=int(l[-2:])),(f:=l[0]))==(d,'f'))else(0,(a:=a+((f=='d')*2-1)*d)-a)for l in open('e')]));print(x*y)"
   ]
  },
  {
   "cell_type": "code",
   "execution_count": 67,
   "metadata": {},
   "outputs": [
    {
     "name": "stdout",
     "output_type": "stream",
     "text": [
      "900\n"
     ]
    }
   ],
   "source": [
    "a=0;x,y=map(sum,zip(*[(d,d*a)if(d:=int(l[-2:]))and(f:=l[0])=='f'else(0,(a:=a+((f=='d')*2-1)*d)-a)for l in open('e')]));print(x*y)"
   ]
  },
  {
   "cell_type": "code",
   "execution_count": 73,
   "metadata": {},
   "outputs": [
    {
     "name": "stdout",
     "output_type": "stream",
     "text": [
      "1281977850\n",
      "129\n"
     ]
    }
   ],
   "source": [
    "a=0;x,y=map(sum,zip(*[(d,d*a)if(d:=int(l[-2:]))and(f:=l[0])=='f'else(0,(a:=a+d*((f=='d')*2-1))-a)for l in open('i')]));print(x*y)\n",
    "\n",
    "print(len(\"a=0;x,y=map(sum,zip(*[(d,d*a)if(d:=int(l[-2:]))and(f:=l[0])=='f'else(0,(a:=a+d*((f=='d')*2-1))-a)for l in open('e')]));print(x*y)\"))"
   ]
  },
  {
   "cell_type": "code",
   "execution_count": null,
   "metadata": {},
   "outputs": [],
   "source": [
    "(((d:=int(l[-2:])),(f:=l[0]))==(d,'f'))\n",
    "((d:=int(l[-2:])),(f:=l[0]))=='f'"
   ]
  },
  {
   "cell_type": "code",
   "execution_count": 64,
   "metadata": {},
   "outputs": [
    {
     "data": {
      "text/plain": [
       "True"
      ]
     },
     "execution_count": 64,
     "metadata": {},
     "output_type": "execute_result"
    }
   ],
   "source": [
    "l = 'forward 5'\n",
    "# l = 'down 8'\n",
    "\n",
    "True if((d:=int(l[-2:])),(f:=l[0]))==(d,'f')else False\n",
    "True if((d:=int(l[-2:])),(f:=l[0]))[1]=='f'else False\n",
    "True if(d:=int(l[-2:]))and(f:=l[0])=='f'else False\n"
   ]
  },
  {
   "cell_type": "code",
   "execution_count": 53,
   "metadata": {},
   "outputs": [
    {
     "data": {
      "text/plain": [
       "False"
      ]
     },
     "execution_count": 53,
     "metadata": {},
     "output_type": "execute_result"
    }
   ],
   "source": [
    "bool(0)"
   ]
  },
  {
   "cell_type": "code",
   "execution_count": 54,
   "metadata": {},
   "outputs": [],
   "source": [
    "for l in open('i'):\n",
    "    if int(l[-2:]) == 0:\n",
    "        print(\"DDSFF\")"
   ]
  },
  {
   "cell_type": "code",
   "execution_count": 68,
   "metadata": {},
   "outputs": [
    {
     "ename": "SyntaxError",
     "evalue": "invalid syntax (3103370989.py, line 2)",
     "output_type": "error",
     "traceback": [
      "\u001b[0;36m  File \u001b[0;32m\"/var/folders/pr/xrwsh52s27d30qww052h5q1h0000gn/T/ipykernel_31092/3103370989.py\"\u001b[0;36m, line \u001b[0;32m2\u001b[0m\n\u001b[0;31m    2x\u001b[0m\n\u001b[0m     ^\u001b[0m\n\u001b[0;31mSyntaxError\u001b[0m\u001b[0;31m:\u001b[0m invalid syntax\n"
     ]
    }
   ],
   "source": [
    "x=4\n",
    "2x"
   ]
  },
  {
   "cell_type": "code",
   "execution_count": null,
   "metadata": {},
   "outputs": [],
   "source": [
    "a=0;x,y=map(sum,zip(*[(d,d*a)if(d:=int(l[-2:]))and(f:=l[0])=='f'else(0,(a:=a+d*((f=='d')*2-1))-a)for l in open('i')]));print(x*y)"
   ]
  },
  {
   "cell_type": "code",
   "execution_count": 80,
   "metadata": {},
   "outputs": [
    {
     "name": "stdout",
     "output_type": "stream",
     "text": [
      "1281977850\n"
     ]
    }
   ],
   "source": [
    "depth=horizontal=aim=0\n",
    "\n",
    "x,y=map(sum,zip(*[\n",
    "    (horizontal:=horizontal+distance,depth:=depth+distance*aim)\n",
    "    if (distance:=int(l[-2:])) and (first:=l[0]) == 'f' else\n",
    "    (0,(aim:=aim+distance*((first=='d')*2-1))-aim)\n",
    "    for l in open('i')\n",
    "]))\n",
    "\n",
    "print(depth*horizontal)"
   ]
  },
  {
   "cell_type": "code",
   "execution_count": 83,
   "metadata": {},
   "outputs": [
    {
     "name": "stdout",
     "output_type": "stream",
     "text": [
      "1281977850\n"
     ]
    }
   ],
   "source": [
    "depth=horizontal=aim=0\n",
    "\n",
    "[\n",
    "    (horizontal:=horizontal+units,depth:=depth+units*aim)\n",
    "    if (units:=int(l[-2:])) and (first:=l[0]) == 'f' else\n",
    "    (0,(aim:=aim+units*((first=='d')*2-1))-aim)\n",
    "    for l in open('i')\n",
    "]\n",
    "\n",
    "print(depth*horizontal)"
   ]
  },
  {
   "cell_type": "code",
   "execution_count": 123,
   "metadata": {},
   "outputs": [
    {
     "ename": "TypeError",
     "evalue": "cannot unpack non-iterable int object",
     "output_type": "error",
     "traceback": [
      "\u001b[0;31m---------------------------------------------------------------------------\u001b[0m",
      "\u001b[0;31mTypeError\u001b[0m                                 Traceback (most recent call last)",
      "\u001b[0;32m/var/folders/pr/xrwsh52s27d30qww052h5q1h0000gn/T/ipykernel_31092/1487379427.py\u001b[0m in \u001b[0;36m<module>\u001b[0;34m\u001b[0m\n\u001b[1;32m      1\u001b[0m \u001b[0mdepth\u001b[0m\u001b[0;34m=\u001b[0m\u001b[0mhorizontal\u001b[0m\u001b[0;34m=\u001b[0m\u001b[0maim\u001b[0m\u001b[0;34m=\u001b[0m\u001b[0;36m0\u001b[0m\u001b[0;34m\u001b[0m\u001b[0;34m\u001b[0m\u001b[0m\n\u001b[1;32m      2\u001b[0m \u001b[0;34m\u001b[0m\u001b[0m\n\u001b[0;32m----> 3\u001b[0;31m [\n\u001b[0m\u001b[1;32m      4\u001b[0m     \u001b[0;34m(\u001b[0m\u001b[0mhorizontal\u001b[0m\u001b[0;34m:=\u001b[0m\u001b[0mhorizontal\u001b[0m\u001b[0;34m+\u001b[0m\u001b[0munits\u001b[0m\u001b[0;34m,\u001b[0m\u001b[0mdepth\u001b[0m\u001b[0;34m:=\u001b[0m\u001b[0mdepth\u001b[0m\u001b[0;34m+\u001b[0m\u001b[0munits\u001b[0m\u001b[0;34m*\u001b[0m\u001b[0maim\u001b[0m\u001b[0;34m)\u001b[0m\u001b[0;34m\u001b[0m\u001b[0;34m\u001b[0m\u001b[0m\n\u001b[1;32m      5\u001b[0m     \u001b[0;32mif\u001b[0m \u001b[0mfirst\u001b[0m \u001b[0;34m==\u001b[0m \u001b[0;34m'f'\u001b[0m \u001b[0;32melse\u001b[0m\u001b[0;34m\u001b[0m\u001b[0;34m\u001b[0m\u001b[0m\n",
      "\u001b[0;32m/var/folders/pr/xrwsh52s27d30qww052h5q1h0000gn/T/ipykernel_31092/1487379427.py\u001b[0m in \u001b[0;36m<listcomp>\u001b[0;34m(.0)\u001b[0m\n\u001b[1;32m      6\u001b[0m     \u001b[0;34m(\u001b[0m\u001b[0maim\u001b[0m\u001b[0;34m:=\u001b[0m\u001b[0maim\u001b[0m\u001b[0;34m+\u001b[0m\u001b[0munits\u001b[0m\u001b[0;34m*\u001b[0m\u001b[0;34m(\u001b[0m\u001b[0;34m(\u001b[0m\u001b[0mfirst\u001b[0m\u001b[0;34m==\u001b[0m\u001b[0;34m'd'\u001b[0m\u001b[0;34m)\u001b[0m\u001b[0;34m*\u001b[0m\u001b[0;36m2\u001b[0m\u001b[0;34m-\u001b[0m\u001b[0;36m1\u001b[0m\u001b[0;34m)\u001b[0m\u001b[0;34m)\u001b[0m\u001b[0;34m\u001b[0m\u001b[0;34m\u001b[0m\u001b[0m\n\u001b[1;32m      7\u001b[0m     \u001b[0;32mfor\u001b[0m \u001b[0ml\u001b[0m \u001b[0;32min\u001b[0m \u001b[0mopen\u001b[0m\u001b[0;34m(\u001b[0m\u001b[0;34m'i'\u001b[0m\u001b[0;34m)\u001b[0m\u001b[0;34m\u001b[0m\u001b[0;34m\u001b[0m\u001b[0m\n\u001b[0;32m----> 8\u001b[0;31m     \u001b[0;32mfor\u001b[0m \u001b[0munits\u001b[0m\u001b[0;34m,\u001b[0m \u001b[0mfirst\u001b[0m \u001b[0;32min\u001b[0m \u001b[0;34m[\u001b[0m\u001b[0;36m0\u001b[0m\u001b[0;34m,\u001b[0m \u001b[0;36m1\u001b[0m\u001b[0;34m]\u001b[0m\u001b[0;34m\u001b[0m\u001b[0;34m\u001b[0m\u001b[0m\n\u001b[0m\u001b[1;32m      9\u001b[0m ]\n\u001b[1;32m     10\u001b[0m \u001b[0;34m\u001b[0m\u001b[0m\n",
      "\u001b[0;31mTypeError\u001b[0m: cannot unpack non-iterable int object"
     ]
    }
   ],
   "source": [
    "depth=horizontal=aim=0\n",
    "\n",
    "[\n",
    "    (horizontal:=horizontal+units,depth:=depth+units*aim)\n",
    "    if (units:=int(l[-2])) and (first:=l[0]) == 'f' else\n",
    "    \n",
    "    for l in open('i')\n",
    "]\n",
    "\n",
    "print(depth*horizontal)"
   ]
  },
  {
   "cell_type": "code",
   "execution_count": 139,
   "metadata": {},
   "outputs": [
    {
     "data": {
      "text/plain": [
       "1281977850"
      ]
     },
     "execution_count": 139,
     "metadata": {},
     "output_type": "execute_result"
    }
   ],
   "source": [
    "depth=horizontal=aim=0\n",
    "\n",
    "sum(\n",
    "    (horizontal-(horizontal:=horizontal+units))*aim\n",
    "    for l in open('i')\n",
    "    if ((units:=int(l[-2])) and (first:=l[0])=='f') or (aim:=aim-units*((first=='d')*2-1))*0\n",
    ")*horizontal"
   ]
  },
  {
   "cell_type": "code",
   "execution_count": 168,
   "metadata": {},
   "outputs": [
    {
     "name": "stdout",
     "output_type": "stream",
     "text": [
      "1281977850\n",
      "112\n"
     ]
    }
   ],
   "source": [
    "h=a=0;print(sum(u*a+(h:=h+u)*0 for l in open('i')if(u:=int(l[-2]))and l[0]=='f'or(a:=a+u*((l[0]<'e')*2-1))*0)*h)\n",
    "\n",
    "print(len(\"h=a=0;print(sum(u*a+(h:=h+u)*0 for l in open('i')if(u:=int(l[-2]))and l[0]=='f'or(a:=a+u*((l[0]<'e')*2-1))*0)*h)\"))"
   ]
  },
  {
   "cell_type": "code",
   "execution_count": null,
   "metadata": {},
   "outputs": [],
   "source": [
    "h=a=0;print(sum(u*a+(h:=h+u)*0 for l in open('i')if(u:=int(l[-2]))and l[0]=='f'or(a:=a+u*((l[0]<'e')*2-1))*0)*h)"
   ]
  },
  {
   "cell_type": "code",
   "execution_count": 124,
   "metadata": {},
   "outputs": [
    {
     "name": "stdout",
     "output_type": "stream",
     "text": [
      "1281977850\n",
      "117\n"
     ]
    }
   ],
   "source": [
    "d=h=a=0;[(h:=h+u,d:=d+u*a)if(u:=int(l[-2]))and(f:=l[0])=='f'else(a:=a+u*((f=='d')*2-1))for l in open('i')];print(d*h)\n",
    "\n",
    "print(len(\"d=h=a=0;[(h:=h+u,d:=d+u*a)if(u:=int(l[-2]))and(f:=l[0])=='f'else(a:=a+u*((f=='d')*2-1))for l in open('i')];print(d*h)\"))"
   ]
  },
  {
   "cell_type": "code",
   "execution_count": 117,
   "metadata": {},
   "outputs": [
    {
     "name": "stdout",
     "output_type": "stream",
     "text": [
      "1281977850.0\n",
      "118\n"
     ]
    }
   ],
   "source": [
    "d=h=a=0;[(h:=h+u,d:=d+u*a)if(u:=int(l[-2]))and(f:=l[0])=='f'else(a:=a-u/2+u*(f=='d'))for l in open('i')];print(2*d*h)\n",
    "\n",
    "print(len(\"d=h=a=0;[(h:=h+u,d:=d+u*a)if(u:=int(l[-2:]))and(f:=l[0])=='f'else(a:=a-u/2+u*(f=='d'))for l in open('i')];print(2*d*h)\"))"
   ]
  },
  {
   "cell_type": "code",
   "execution_count": 108,
   "metadata": {},
   "outputs": [
    {
     "name": "stdout",
     "output_type": "stream",
     "text": [
      "1281977850\n"
     ]
    }
   ],
   "source": [
    "d=h=a=0;[(h:=h+u,d:=d+u*a)if(u:=int(l[-2:]))and(f:=l[0])=='f'else(a:=a+u*((f=='d')*2-1))for l in open('i')];print(d*h)"
   ]
  },
  {
   "cell_type": "code",
   "execution_count": 118,
   "metadata": {},
   "outputs": [
    {
     "ename": "ValueError",
     "evalue": "invalid literal for int() with base 10: ' '",
     "output_type": "error",
     "traceback": [
      "\u001b[0;31m---------------------------------------------------------------------------\u001b[0m",
      "\u001b[0;31mValueError\u001b[0m                                Traceback (most recent call last)",
      "\u001b[0;32m/var/folders/pr/xrwsh52s27d30qww052h5q1h0000gn/T/ipykernel_31092/2694945578.py\u001b[0m in \u001b[0;36m<module>\u001b[0;34m\u001b[0m\n\u001b[0;32m----> 1\u001b[0;31m \u001b[0md\u001b[0m\u001b[0;34m=\u001b[0m\u001b[0mh\u001b[0m\u001b[0;34m=\u001b[0m\u001b[0ma\u001b[0m\u001b[0;34m=\u001b[0m\u001b[0;36m0\u001b[0m\u001b[0;34m;\u001b[0m\u001b[0;34m[\u001b[0m\u001b[0;34m(\u001b[0m\u001b[0mh\u001b[0m\u001b[0;34m:=\u001b[0m\u001b[0mh\u001b[0m\u001b[0;34m+\u001b[0m\u001b[0mu\u001b[0m\u001b[0;34m,\u001b[0m\u001b[0md\u001b[0m\u001b[0;34m:=\u001b[0m\u001b[0md\u001b[0m\u001b[0;34m+\u001b[0m\u001b[0mu\u001b[0m\u001b[0;34m*\u001b[0m\u001b[0ma\u001b[0m\u001b[0;34m)\u001b[0m\u001b[0;32mif\u001b[0m \u001b[0mf\u001b[0m\u001b[0;34m==\u001b[0m\u001b[0;34m'f'\u001b[0m\u001b[0;32melse\u001b[0m\u001b[0;34m(\u001b[0m\u001b[0ma\u001b[0m\u001b[0;34m:=\u001b[0m\u001b[0ma\u001b[0m\u001b[0;34m+\u001b[0m\u001b[0mu\u001b[0m\u001b[0;34m*\u001b[0m\u001b[0;34m(\u001b[0m\u001b[0;34m(\u001b[0m\u001b[0mf\u001b[0m\u001b[0;34m==\u001b[0m\u001b[0;34m'd'\u001b[0m\u001b[0;34m)\u001b[0m\u001b[0;34m*\u001b[0m\u001b[0;36m2\u001b[0m\u001b[0;34m-\u001b[0m\u001b[0;36m1\u001b[0m\u001b[0;34m)\u001b[0m\u001b[0;34m)\u001b[0m \u001b[0;32mfor\u001b[0m \u001b[0mu\u001b[0m\u001b[0;34m,\u001b[0m\u001b[0mf\u001b[0m \u001b[0;32min\u001b[0m \u001b[0;34m(\u001b[0m\u001b[0;34m(\u001b[0m\u001b[0mint\u001b[0m\u001b[0;34m(\u001b[0m\u001b[0ml\u001b[0m\u001b[0;34m[\u001b[0m\u001b[0;34m-\u001b[0m\u001b[0;36m2\u001b[0m\u001b[0;34m]\u001b[0m\u001b[0;34m)\u001b[0m\u001b[0;34m,\u001b[0m\u001b[0ml\u001b[0m\u001b[0;34m[\u001b[0m\u001b[0;36m0\u001b[0m\u001b[0;34m]\u001b[0m\u001b[0;34m)\u001b[0m\u001b[0;34m)\u001b[0m \u001b[0;32mfor\u001b[0m \u001b[0ml\u001b[0m \u001b[0;32min\u001b[0m \u001b[0mopen\u001b[0m\u001b[0;34m(\u001b[0m\u001b[0;34m'e'\u001b[0m\u001b[0;34m)\u001b[0m\u001b[0;34m]\u001b[0m\u001b[0;34m;\u001b[0m\u001b[0mprint\u001b[0m\u001b[0;34m(\u001b[0m\u001b[0md\u001b[0m\u001b[0;34m*\u001b[0m\u001b[0mh\u001b[0m\u001b[0;34m)\u001b[0m\u001b[0;34m\u001b[0m\u001b[0;34m\u001b[0m\u001b[0m\n\u001b[0m",
      "\u001b[0;31mValueError\u001b[0m: invalid literal for int() with base 10: ' '"
     ]
    }
   ],
   "source": [
    "d=h=a=0;[(h:=h+u,d:=d+u*a)if f=='f'else(a:=a+u*((f=='d')*2-1)) for u,f in ((int(l[-2]),l[0])) for l in open('e')];print(d*h)"
   ]
  },
  {
   "cell_type": "code",
   "execution_count": null,
   "metadata": {},
   "outputs": [],
   "source": [
    "d=h=a=0;[(h:=h+u,d:=d+u*a)if(u:=int(l[-2]))and(f:=l[0])=='f'else(a:=a+u*((f=='d')*2-1))for l in open('i')];print(d*h)"
   ]
  },
  {
   "cell_type": "code",
   "execution_count": 156,
   "metadata": {},
   "outputs": [
    {
     "data": {
      "text/plain": [
       "117"
      ]
     },
     "execution_count": 156,
     "metadata": {},
     "output_type": "execute_result"
    }
   ],
   "source": [
    "ord('u')"
   ]
  },
  {
   "cell_type": "code",
   "execution_count": 157,
   "metadata": {},
   "outputs": [
    {
     "data": {
      "text/plain": [
       "100"
      ]
     },
     "execution_count": 157,
     "metadata": {},
     "output_type": "execute_result"
    }
   ],
   "source": [
    "ord('d')"
   ]
  },
  {
   "cell_type": "code",
   "execution_count": 159,
   "metadata": {},
   "outputs": [
    {
     "data": {
      "text/plain": [
       "True"
      ]
     },
     "execution_count": 159,
     "metadata": {},
     "output_type": "execute_result"
    }
   ],
   "source": []
  },
  {
   "cell_type": "code",
   "execution_count": 166,
   "metadata": {},
   "outputs": [
    {
     "ename": "TypeError",
     "evalue": "can only concatenate tuple (not \"int\") to tuple",
     "output_type": "error",
     "traceback": [
      "\u001b[0;31m---------------------------------------------------------------------------\u001b[0m",
      "\u001b[0;31mTypeError\u001b[0m                                 Traceback (most recent call last)",
      "\u001b[0;32m/var/folders/pr/xrwsh52s27d30qww052h5q1h0000gn/T/ipykernel_31092/2621459635.py\u001b[0m in \u001b[0;36m<module>\u001b[0;34m\u001b[0m\n\u001b[0;32m----> 1\u001b[0;31m \u001b[0msum\u001b[0m\u001b[0;34m(\u001b[0m\u001b[0;34m*\u001b[0m\u001b[0;34m[\u001b[0m\u001b[0;34m(\u001b[0m\u001b[0;36m1\u001b[0m\u001b[0;34m,\u001b[0m \u001b[0;36m2\u001b[0m\u001b[0;34m)\u001b[0m\u001b[0;34m,\u001b[0m \u001b[0;34m(\u001b[0m\u001b[0;36m3\u001b[0m\u001b[0;34m,\u001b[0m \u001b[0;36m4\u001b[0m\u001b[0;34m)\u001b[0m\u001b[0;34m]\u001b[0m\u001b[0;34m)\u001b[0m\u001b[0;34m\u001b[0m\u001b[0;34m\u001b[0m\u001b[0m\n\u001b[0m",
      "\u001b[0;31mTypeError\u001b[0m: can only concatenate tuple (not \"int\") to tuple"
     ]
    }
   ],
   "source": [
    "sum([(1, 2), (3, 4)])"
   ]
  },
  {
   "cell_type": "code",
   "execution_count": null,
   "metadata": {},
   "outputs": [],
   "source": []
  }
 ],
 "metadata": {
  "interpreter": {
   "hash": "2a15b5884ee2cc9180c3fad60afb999633c0c6f349efbc5498ac7868b0ce4ae8"
  },
  "kernelspec": {
   "display_name": "Python 3.8.12 64-bit ('advent_of_code': conda)",
   "language": "python",
   "name": "python3"
  },
  "language_info": {
   "codemirror_mode": {
    "name": "ipython",
    "version": 3
   },
   "file_extension": ".py",
   "mimetype": "text/x-python",
   "name": "python",
   "nbconvert_exporter": "python",
   "pygments_lexer": "ipython3",
   "version": "3.8.12"
  },
  "orig_nbformat": 4
 },
 "nbformat": 4,
 "nbformat_minor": 2
}
