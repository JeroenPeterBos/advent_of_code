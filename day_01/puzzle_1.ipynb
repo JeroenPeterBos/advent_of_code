{
 "cells": [
  {
   "cell_type": "code",
   "execution_count": 10,
   "metadata": {},
   "outputs": [
    {
     "data": {
      "text/plain": [
       "1557"
      ]
     },
     "execution_count": 10,
     "metadata": {},
     "output_type": "execute_result"
    }
   ],
   "source": [
    "count = 0\n",
    "prev = float(\"inf\")\n",
    "with open(\"i\") as f:\n",
    "    for line in f.readlines():\n",
    "        if int(line) > prev:\n",
    "            count += 1\n",
    "        prev = int(line)\n",
    "count"
   ]
  },
  {
   "cell_type": "code",
   "execution_count": 1,
   "metadata": {},
   "outputs": [],
   "source": [
    "a = map(int, open(\"i\").readlines())\n",
    "b = map(int, open(\"i\").read().split())"
   ]
  },
  {
   "cell_type": "code",
   "execution_count": 9,
   "metadata": {},
   "outputs": [
    {
     "name": "stdout",
     "output_type": "stream",
     "text": [
      "('104\\n', '1')\n",
      "('105\\n', '0')\n",
      "('109\\n', '4')\n",
      "('120\\n', '\\n')\n"
     ]
    }
   ],
   "source": [
    "for l in zip(open('i'), next(open('i'))):\n",
    "    print(l)"
   ]
  },
  {
   "cell_type": "code",
   "execution_count": 24,
   "metadata": {},
   "outputs": [
    {
     "data": {
      "text/plain": [
       "1557"
      ]
     },
     "execution_count": 24,
     "metadata": {},
     "output_type": "execute_result"
    }
   ],
   "source": [
    "a=open('i');b=open('i');next(b);len([a for c,d in zip(a,b)if int(c)<int(d)])"
   ]
  },
  {
   "cell_type": "code",
   "execution_count": 16,
   "metadata": {},
   "outputs": [
    {
     "name": "stdout",
     "output_type": "stream",
     "text": [
      "0\n"
     ]
    }
   ],
   "source": [
    "print(len(a.readlines()))"
   ]
  },
  {
   "cell_type": "code",
   "execution_count": 25,
   "metadata": {},
   "outputs": [
    {
     "data": {
      "text/plain": [
       "76"
      ]
     },
     "execution_count": 25,
     "metadata": {},
     "output_type": "execute_result"
    }
   ],
   "source": [
    "len(\"a=open('i');b=open('i');next(b);len([a for c,d in zip(a,b)if int(c)<int(d)])\")"
   ]
  },
  {
   "cell_type": "code",
   "execution_count": 28,
   "metadata": {},
   "outputs": [
    {
     "name": "stdout",
     "output_type": "stream",
     "text": [
      "1557\n"
     ]
    }
   ],
   "source": [
    "l=open('i').readlines();print(sum([int(a)<int(b) for a,b in zip(l, l[1:])]))"
   ]
  },
  {
   "cell_type": "code",
   "execution_count": 29,
   "metadata": {},
   "outputs": [
    {
     "data": {
      "text/plain": [
       "76"
      ]
     },
     "execution_count": 29,
     "metadata": {},
     "output_type": "execute_result"
    }
   ],
   "source": [
    "len(\"l=open('i').readlines();print(sum([int(a)<int(b) for a,b in zip(l, l[1:])]))\")"
   ]
  },
  {
   "cell_type": "code",
   "execution_count": 44,
   "metadata": {},
   "outputs": [
    {
     "name": "stdout",
     "output_type": "stream",
     "text": [
      "1558\n"
     ]
    }
   ],
   "source": [
    "a=0;print(len([b for b in open('i') if a < (a:=int(b))])-1)\n",
    "\n",
    "del a"
   ]
  },
  {
   "cell_type": "code",
   "execution_count": 16,
   "metadata": {},
   "outputs": [
    {
     "ename": "TypeError",
     "evalue": "'<' not supported between instances of 'int' and 'generator'",
     "output_type": "error",
     "traceback": [
      "\u001b[0;31m---------------------------------------------------------------------------\u001b[0m",
      "\u001b[0;31mTypeError\u001b[0m                                 Traceback (most recent call last)",
      "\u001b[0;32m/var/folders/pr/xrwsh52s27d30qww052h5q1h0000gn/T/ipykernel_992/430962179.py\u001b[0m in \u001b[0;36m<module>\u001b[0;34m\u001b[0m\n\u001b[0;32m----> 1\u001b[0;31m \u001b[0ml\u001b[0m\u001b[0;34m=\u001b[0m\u001b[0mlist\u001b[0m\u001b[0;34m(\u001b[0m\u001b[0mopen\u001b[0m\u001b[0;34m(\u001b[0m\u001b[0;34m'i'\u001b[0m\u001b[0;34m)\u001b[0m\u001b[0;34m)\u001b[0m\u001b[0;34m;\u001b[0m\u001b[0ma\u001b[0m\u001b[0;34m=\u001b[0m\u001b[0;36m0\u001b[0m\u001b[0;34m;\u001b[0m\u001b[0mprint\u001b[0m\u001b[0;34m(\u001b[0m\u001b[0msum\u001b[0m\u001b[0;34m(\u001b[0m\u001b[0ma\u001b[0m\u001b[0;34m<\u001b[0m\u001b[0;34m(\u001b[0m\u001b[0ma\u001b[0m\u001b[0;34m:=\u001b[0m\u001b[0msum\u001b[0m\u001b[0;34m(\u001b[0m\u001b[0mmap\u001b[0m\u001b[0;34m(\u001b[0m\u001b[0mint\u001b[0m\u001b[0;34m,\u001b[0m\u001b[0ml\u001b[0m\u001b[0;34m[\u001b[0m\u001b[0mi\u001b[0m\u001b[0;34m-\u001b[0m\u001b[0;36m3\u001b[0m\u001b[0;34m:\u001b[0m\u001b[0mi\u001b[0m\u001b[0;34m]\u001b[0m\u001b[0;34m)\u001b[0m\u001b[0;34m)\u001b[0m\u001b[0;32mfor\u001b[0m \u001b[0mi\u001b[0m \u001b[0;32min\u001b[0m \u001b[0mrange\u001b[0m\u001b[0;34m(\u001b[0m\u001b[0;36m3\u001b[0m\u001b[0;34m,\u001b[0m \u001b[0mlen\u001b[0m\u001b[0;34m(\u001b[0m\u001b[0ml\u001b[0m\u001b[0;34m)\u001b[0m\u001b[0;34m)\u001b[0m\u001b[0;34m)\u001b[0m\u001b[0;34m)\u001b[0m\u001b[0;34m)\u001b[0m\u001b[0;34m\u001b[0m\u001b[0;34m\u001b[0m\u001b[0m\n\u001b[0m\u001b[1;32m      2\u001b[0m \u001b[0;34m\u001b[0m\u001b[0m\n\u001b[1;32m      3\u001b[0m \u001b[0mlen\u001b[0m\u001b[0;34m(\u001b[0m\u001b[0;34m\"a=0;print(sum([a<(a:=int(b))for b in open('i')])-1)\"\u001b[0m\u001b[0;34m)\u001b[0m\u001b[0;34m\u001b[0m\u001b[0;34m\u001b[0m\u001b[0m\n",
      "\u001b[0;31mTypeError\u001b[0m: '<' not supported between instances of 'int' and 'generator'"
     ]
    }
   ],
   "source": [
    "l=list(open('i'));a=0;print(sum(a<(a:=sum(map(int,l[i-3:i]))for i in range(3, len(l)))))\n",
    "\n",
    "len(\"a=0;print(sum([a<(a:=int(b))for b in open('i')])-1)\")"
   ]
  },
  {
   "cell_type": "code",
   "execution_count": 45,
   "metadata": {},
   "outputs": [
    {
     "data": {
      "text/plain": [
       "54"
      ]
     },
     "execution_count": 45,
     "metadata": {},
     "output_type": "execute_result"
    }
   ],
   "source": [
    "len(\"a=0;print(sum([a < (a:=int(b)) for b in open('i')])-1)\")"
   ]
  },
  {
   "cell_type": "code",
   "execution_count": 46,
   "metadata": {},
   "outputs": [
    {
     "data": {
      "text/plain": [
       "59"
      ]
     },
     "execution_count": 46,
     "metadata": {},
     "output_type": "execute_result"
    }
   ],
   "source": [
    "len(\"a=0;print(len([b for b in open('i') if a < (a:=int(b))])-1)\")"
   ]
  },
  {
   "cell_type": "code",
   "execution_count": 6,
   "metadata": {},
   "outputs": [
    {
     "ename": "NameError",
     "evalue": "name 'l' is not defined",
     "output_type": "error",
     "traceback": [
      "\u001b[0;31m---------------------------------------------------------------------------\u001b[0m",
      "\u001b[0;31mNameError\u001b[0m                                 Traceback (most recent call last)",
      "\u001b[0;32m/var/folders/pr/xrwsh52s27d30qww052h5q1h0000gn/T/ipykernel_992/3723490112.py\u001b[0m in \u001b[0;36m<module>\u001b[0;34m\u001b[0m\n\u001b[0;32m----> 1\u001b[0;31m \u001b[0ml\u001b[0m\u001b[0;34m\u001b[0m\u001b[0;34m\u001b[0m\u001b[0m\n\u001b[0m",
      "\u001b[0;31mNameError\u001b[0m: name 'l' is not defined"
     ]
    }
   ],
   "source": [
    "l"
   ]
  },
  {
   "cell_type": "code",
   "execution_count": 20,
   "metadata": {},
   "outputs": [],
   "source": [
    "l = [0,1,2,3]"
   ]
  },
  {
   "cell_type": "code",
   "execution_count": 21,
   "metadata": {},
   "outputs": [
    {
     "data": {
      "text/plain": [
       "[2, 3]"
      ]
     },
     "execution_count": 21,
     "metadata": {},
     "output_type": "execute_result"
    }
   ],
   "source": [
    "l[2:]"
   ]
  },
  {
   "cell_type": "code",
   "execution_count": 30,
   "metadata": {},
   "outputs": [
    {
     "name": "stdout",
     "output_type": "stream",
     "text": [
      "607\n"
     ]
    },
    {
     "data": {
      "text/plain": [
       "[616, 626, 618, 617, 647, 716, 769, 792]"
      ]
     },
     "execution_count": 30,
     "metadata": {},
     "output_type": "execute_result"
    }
   ],
   "source": [
    "l = list(map(int, open('e')))\n",
    "\n",
    "a,b,c=l[0:3]\n",
    "print(a+b+c)\n",
    "\n",
    "\n",
    "list((a:=b)+(b:=c)+(c:=d) for d in l[2:])\n",
    "# sum(a+b+c<(a:=b)+(b:=c)+(c:=d) for d in l[2:])\n"
   ]
  },
  {
   "cell_type": "code",
   "execution_count": null,
   "metadata": {},
   "outputs": [],
   "source": [
    "list((a:=b)+(b:=c)+(c:=d) for d in l[2:])"
   ]
  },
  {
   "cell_type": "code",
   "execution_count": 33,
   "metadata": {},
   "outputs": [
    {
     "data": {
      "text/plain": [
       "1608"
      ]
     },
     "execution_count": 33,
     "metadata": {},
     "output_type": "execute_result"
    }
   ],
   "source": [
    "l = list(map(int, open('i')));a=sum(l[:3]);sum(a<(a:=sum(l[i:i+3]))for i in range(len(l)-2))\n"
   ]
  },
  {
   "cell_type": "code",
   "execution_count": 34,
   "metadata": {},
   "outputs": [
    {
     "data": {
      "text/plain": [
       "92"
      ]
     },
     "execution_count": 34,
     "metadata": {},
     "output_type": "execute_result"
    }
   ],
   "source": [
    "len(\"l = list(map(int, open('i')));a=sum(l[:3]);sum(a<(a:=sum(l[i:i+3]))for i in range(len(l)-2))\")"
   ]
  },
  {
   "cell_type": "code",
   "execution_count": 41,
   "metadata": {},
   "outputs": [
    {
     "name": "stdout",
     "output_type": "stream",
     "text": [
      "1608\n"
     ]
    },
    {
     "data": {
      "text/plain": [
       "75"
      ]
     },
     "execution_count": 41,
     "metadata": {},
     "output_type": "execute_result"
    }
   ],
   "source": [
    "a,b,c=0,0,0;print(sum(a+b+c<(a:=b)+(b:=c)+(c:=int(d))for d in open('i'))-3)\n",
    "\n",
    "len(\"a,b,c=0,0,0;print(sum(a+b+c<(a:=b)+(b:=c)+(c:=int(d))for d in open('i'))-3)\")"
   ]
  },
  {
   "cell_type": "code",
   "execution_count": 36,
   "metadata": {},
   "outputs": [],
   "source": [
    "a,b,c=0,0,0"
   ]
  },
  {
   "cell_type": "code",
   "execution_count": 42,
   "metadata": {},
   "outputs": [
    {
     "name": "stdout",
     "output_type": "stream",
     "text": [
      "26\n"
     ]
    }
   ],
   "source": [
    "l=list(map(int,open('i')))\n",
    "\n",
    "print(len(\"l=list(map(int,open('i')))\"))\n",
    "\n"
   ]
  },
  {
   "cell_type": "code",
   "execution_count": 59,
   "metadata": {},
   "outputs": [
    {
     "name": "stdout",
     "output_type": "stream",
     "text": [
      "1607\n"
     ]
    },
    {
     "data": {
      "text/plain": [
       "76"
      ]
     },
     "execution_count": 59,
     "metadata": {},
     "output_type": "execute_result"
    }
   ],
   "source": [
    "a,b,c,*d=map(int,open('i'));print(sum(a+b+c<(a:=b)+(b:=c)+(c:=x)for x in d))\n",
    "\n",
    "len(\"a,b,c,*d=map(int,open('i'));print(sum(a+b+c<(a:=b)+(b:=c)+(c:=x)for x in d))\")"
   ]
  },
  {
   "cell_type": "code",
   "execution_count": 66,
   "metadata": {},
   "outputs": [
    {
     "name": "stdout",
     "output_type": "stream",
     "text": [
      "1608\n"
     ]
    }
   ],
   "source": [
    "a,l=0,[int(x)for x in open('i')];print(sum(a<(a:=sum(l[i:i+3]))for i in range(len(l)-3)))"
   ]
  },
  {
   "cell_type": "code",
   "execution_count": 76,
   "metadata": {},
   "outputs": [
    {
     "name": "stdout",
     "output_type": "stream",
     "text": [
      "1608\n"
     ]
    },
    {
     "data": {
      "text/plain": [
       "85"
      ]
     },
     "execution_count": 76,
     "metadata": {},
     "output_type": "execute_result"
    }
   ],
   "source": [
    "a,b=[0,0,0],0;print(sum(b<(b:=b-a[-3]+int(c),a:=a+[int(c)])[0] for c in open('i'))-3)\n",
    "\n",
    "len(\"a,b=[0,0,0],0;print(sum(b<(b:=b-a[-3]+int(c),a:=a+[int(c)])[0] for c in open('i'))-3)\")"
   ]
  },
  {
   "cell_type": "code",
   "execution_count": 81,
   "metadata": {},
   "outputs": [
    {
     "name": "stdout",
     "output_type": "stream",
     "text": [
      "1608\n"
     ]
    }
   ],
   "source": [
    "a,b=[],0;print(len([n for n in open('i')if b<(b:=sum((a:=a+[int(n)])[-3:]))])-3)\n"
   ]
  },
  {
   "cell_type": "code",
   "execution_count": 51,
   "metadata": {},
   "outputs": [
    {
     "data": {
      "text/plain": [
       "105"
      ]
     },
     "execution_count": 51,
     "metadata": {},
     "output_type": "execute_result"
    }
   ],
   "source": [
    "b"
   ]
  },
  {
   "cell_type": "code",
   "execution_count": 52,
   "metadata": {},
   "outputs": [
    {
     "data": {
      "text/plain": [
       "[109,\n",
       " 120,\n",
       " 124,\n",
       " 113,\n",
       " 120,\n",
       " 121,\n",
       " 122,\n",
       " 123,\n",
       " 134,\n",
       " 133,\n",
       " 134,\n",
       " 150,\n",
       " 160,\n",
       " 165,\n",
       " 179,\n",
       " 178,\n",
       " 180,\n",
       " 178,\n",
       " 196,\n",
       " 197,\n",
       " 198,\n",
       " 204,\n",
       " 197,\n",
       " 213,\n",
       " 206,\n",
       " 207,\n",
       " 209,\n",
       " 210,\n",
       " 211,\n",
       " 223,\n",
       " 212,\n",
       " 224,\n",
       " 228,\n",
       " 238,\n",
       " 237,\n",
       " 238,\n",
       " 242,\n",
       " 245,\n",
       " 249,\n",
       " 250,\n",
       " 253,\n",
       " 248,\n",
       " 261,\n",
       " 265,\n",
       " 274,\n",
       " 276,\n",
       " 274,\n",
       " 275,\n",
       " 278,\n",
       " 275,\n",
       " 276,\n",
       " 267,\n",
       " 266,\n",
       " 272,\n",
       " 275,\n",
       " 279,\n",
       " 280,\n",
       " 286,\n",
       " 282,\n",
       " 292,\n",
       " 308,\n",
       " 323,\n",
       " 324,\n",
       " 319,\n",
       " 310,\n",
       " 304,\n",
       " 309,\n",
       " 310,\n",
       " 320,\n",
       " 326,\n",
       " 322,\n",
       " 340,\n",
       " 341,\n",
       " 340,\n",
       " 339,\n",
       " 344,\n",
       " 346,\n",
       " 342,\n",
       " 353,\n",
       " 352,\n",
       " 353,\n",
       " 349,\n",
       " 346,\n",
       " 330,\n",
       " 342,\n",
       " 343,\n",
       " 344,\n",
       " 329,\n",
       " 348,\n",
       " 346,\n",
       " 367,\n",
       " 373,\n",
       " 379,\n",
       " 384,\n",
       " 388,\n",
       " 398,\n",
       " 387,\n",
       " 392,\n",
       " 391,\n",
       " 385,\n",
       " 409,\n",
       " 411,\n",
       " 416,\n",
       " 419,\n",
       " 420,\n",
       " 423,\n",
       " 422,\n",
       " 420,\n",
       " 421,\n",
       " 422,\n",
       " 421,\n",
       " 422,\n",
       " 441,\n",
       " 438,\n",
       " 428,\n",
       " 431,\n",
       " 443,\n",
       " 427,\n",
       " 433,\n",
       " 434,\n",
       " 432,\n",
       " 421,\n",
       " 429,\n",
       " 432,\n",
       " 434,\n",
       " 439,\n",
       " 437,\n",
       " 445,\n",
       " 456,\n",
       " 462,\n",
       " 464,\n",
       " 472,\n",
       " 474,\n",
       " 460,\n",
       " 433,\n",
       " 439,\n",
       " 433,\n",
       " 444,\n",
       " 456,\n",
       " 457,\n",
       " 452,\n",
       " 454,\n",
       " 455,\n",
       " 465,\n",
       " 474,\n",
       " 475,\n",
       " 486,\n",
       " 489,\n",
       " 490,\n",
       " 491,\n",
       " 472,\n",
       " 477,\n",
       " 475,\n",
       " 493,\n",
       " 497,\n",
       " 495,\n",
       " 496,\n",
       " 488,\n",
       " 500,\n",
       " 501,\n",
       " 504,\n",
       " 505,\n",
       " 524,\n",
       " 525,\n",
       " 522,\n",
       " 530,\n",
       " 548,\n",
       " 545,\n",
       " 562,\n",
       " 570,\n",
       " 582,\n",
       " 583,\n",
       " 584,\n",
       " 586,\n",
       " 585,\n",
       " 604,\n",
       " 606,\n",
       " 610,\n",
       " 617,\n",
       " 619,\n",
       " 621,\n",
       " 623,\n",
       " 620,\n",
       " 622,\n",
       " 624,\n",
       " 625,\n",
       " 633,\n",
       " 627,\n",
       " 623,\n",
       " 638,\n",
       " 639,\n",
       " 644,\n",
       " 643,\n",
       " 644,\n",
       " 648,\n",
       " 663,\n",
       " 695,\n",
       " 681,\n",
       " 682,\n",
       " 686,\n",
       " 692,\n",
       " 708,\n",
       " 712,\n",
       " 720,\n",
       " 736,\n",
       " 737,\n",
       " 738,\n",
       " 739,\n",
       " 738,\n",
       " 741,\n",
       " 742,\n",
       " 741,\n",
       " 746,\n",
       " 748,\n",
       " 751,\n",
       " 750,\n",
       " 782,\n",
       " 788,\n",
       " 793,\n",
       " 799,\n",
       " 790,\n",
       " 834,\n",
       " 852,\n",
       " 860,\n",
       " 848,\n",
       " 856,\n",
       " 857,\n",
       " 859,\n",
       " 860,\n",
       " 863,\n",
       " 849,\n",
       " 844,\n",
       " 854,\n",
       " 860,\n",
       " 862,\n",
       " 865,\n",
       " 864,\n",
       " 866,\n",
       " 887,\n",
       " 878,\n",
       " 899,\n",
       " 893,\n",
       " 895,\n",
       " 896,\n",
       " 897,\n",
       " 876,\n",
       " 877,\n",
       " 886,\n",
       " 887,\n",
       " 898,\n",
       " 905,\n",
       " 906,\n",
       " 907,\n",
       " 875,\n",
       " 877,\n",
       " 875,\n",
       " 894,\n",
       " 893,\n",
       " 871,\n",
       " 878,\n",
       " 879,\n",
       " 872,\n",
       " 868,\n",
       " 873,\n",
       " 884,\n",
       " 900,\n",
       " 899,\n",
       " 886,\n",
       " 896,\n",
       " 903,\n",
       " 909,\n",
       " 928,\n",
       " 932,\n",
       " 935,\n",
       " 928,\n",
       " 913,\n",
       " 917,\n",
       " 919,\n",
       " 920,\n",
       " 912,\n",
       " 917,\n",
       " 923,\n",
       " 926,\n",
       " 927,\n",
       " 932,\n",
       " 936,\n",
       " 944,\n",
       " 942,\n",
       " 961,\n",
       " 960,\n",
       " 961,\n",
       " 956,\n",
       " 951,\n",
       " 971,\n",
       " 980,\n",
       " 990,\n",
       " 999,\n",
       " 1005,\n",
       " 1008,\n",
       " 1010,\n",
       " 1011,\n",
       " 1032,\n",
       " 1034,\n",
       " 1041,\n",
       " 1066,\n",
       " 1067,\n",
       " 1064,\n",
       " 1066,\n",
       " 1070,\n",
       " 1068,\n",
       " 1079,\n",
       " 1100,\n",
       " 1122,\n",
       " 1118,\n",
       " 1111,\n",
       " 1113,\n",
       " 1141,\n",
       " 1145,\n",
       " 1170,\n",
       " 1171,\n",
       " 1170,\n",
       " 1167,\n",
       " 1170,\n",
       " 1171,\n",
       " 1178,\n",
       " 1183,\n",
       " 1186,\n",
       " 1189,\n",
       " 1190,\n",
       " 1198,\n",
       " 1200,\n",
       " 1202,\n",
       " 1204,\n",
       " 1207,\n",
       " 1226,\n",
       " 1243,\n",
       " 1245,\n",
       " 1246,\n",
       " 1247,\n",
       " 1273,\n",
       " 1267,\n",
       " 1274,\n",
       " 1276,\n",
       " 1298,\n",
       " 1293,\n",
       " 1313,\n",
       " 1315,\n",
       " 1298,\n",
       " 1301,\n",
       " 1316,\n",
       " 1322,\n",
       " 1282,\n",
       " 1256,\n",
       " 1257,\n",
       " 1263,\n",
       " 1271,\n",
       " 1294,\n",
       " 1313,\n",
       " 1322,\n",
       " 1323,\n",
       " 1322,\n",
       " 1324,\n",
       " 1309,\n",
       " 1320,\n",
       " 1325,\n",
       " 1321,\n",
       " 1327,\n",
       " 1335,\n",
       " 1334,\n",
       " 1335,\n",
       " 1346,\n",
       " 1382,\n",
       " 1388,\n",
       " 1393,\n",
       " 1395,\n",
       " 1403,\n",
       " 1417,\n",
       " 1424,\n",
       " 1426,\n",
       " 1427,\n",
       " 1428,\n",
       " 1429,\n",
       " 1432,\n",
       " 1431,\n",
       " 1430,\n",
       " 1411,\n",
       " 1439,\n",
       " 1440,\n",
       " 1441,\n",
       " 1458,\n",
       " 1461,\n",
       " 1466,\n",
       " 1471,\n",
       " 1481,\n",
       " 1483,\n",
       " 1486,\n",
       " 1488,\n",
       " 1494,\n",
       " 1490,\n",
       " 1492,\n",
       " 1489,\n",
       " 1533,\n",
       " 1560,\n",
       " 1577,\n",
       " 1582,\n",
       " 1583,\n",
       " 1592,\n",
       " 1594,\n",
       " 1593,\n",
       " 1594,\n",
       " 1599,\n",
       " 1605,\n",
       " 1616,\n",
       " 1619,\n",
       " 1621,\n",
       " 1627,\n",
       " 1651,\n",
       " 1655,\n",
       " 1656,\n",
       " 1655,\n",
       " 1653,\n",
       " 1651,\n",
       " 1652,\n",
       " 1653,\n",
       " 1657,\n",
       " 1658,\n",
       " 1660,\n",
       " 1674,\n",
       " 1680,\n",
       " 1694,\n",
       " 1700,\n",
       " 1698,\n",
       " 1676,\n",
       " 1648,\n",
       " 1644,\n",
       " 1643,\n",
       " 1645,\n",
       " 1652,\n",
       " 1653,\n",
       " 1654,\n",
       " 1660,\n",
       " 1663,\n",
       " 1664,\n",
       " 1668,\n",
       " 1671,\n",
       " 1681,\n",
       " 1687,\n",
       " 1699,\n",
       " 1702,\n",
       " 1705,\n",
       " 1707,\n",
       " 1712,\n",
       " 1739,\n",
       " 1750,\n",
       " 1753,\n",
       " 1755,\n",
       " 1779,\n",
       " 1769,\n",
       " 1792,\n",
       " 1793,\n",
       " 1798,\n",
       " 1828,\n",
       " 1832,\n",
       " 1811,\n",
       " 1844,\n",
       " 1845,\n",
       " 1846,\n",
       " 1848,\n",
       " 1854,\n",
       " 1857,\n",
       " 1859,\n",
       " 1863,\n",
       " 1866,\n",
       " 1862,\n",
       " 1894,\n",
       " 1898,\n",
       " 1875,\n",
       " 1878,\n",
       " 1879,\n",
       " 1884,\n",
       " 1897,\n",
       " 1883,\n",
       " 1894,\n",
       " 1889,\n",
       " 1890,\n",
       " 1889,\n",
       " 1907,\n",
       " 1924,\n",
       " 1926,\n",
       " 1936,\n",
       " 1940,\n",
       " 1949,\n",
       " 1950,\n",
       " 1968,\n",
       " 1973,\n",
       " 1974,\n",
       " 1971,\n",
       " 1982,\n",
       " 1989,\n",
       " 2004,\n",
       " 2005,\n",
       " 2007,\n",
       " 2018,\n",
       " 2032,\n",
       " 2037,\n",
       " 2039,\n",
       " 2040,\n",
       " 2042,\n",
       " 2046,\n",
       " 2056,\n",
       " 2053,\n",
       " 2054,\n",
       " 2057,\n",
       " 2059,\n",
       " 2063,\n",
       " 2067,\n",
       " 2065,\n",
       " 2059,\n",
       " 2049,\n",
       " 2052,\n",
       " 2045,\n",
       " 2053,\n",
       " 2057,\n",
       " 2063,\n",
       " 2066,\n",
       " 2061,\n",
       " 2068,\n",
       " 2063,\n",
       " 2058,\n",
       " 2060,\n",
       " 2061,\n",
       " 2066,\n",
       " 2065,\n",
       " 2093,\n",
       " 2094,\n",
       " 2126,\n",
       " 2135,\n",
       " 2136,\n",
       " 2119,\n",
       " 2121,\n",
       " 2134,\n",
       " 2135,\n",
       " 2137,\n",
       " 2138,\n",
       " 2143,\n",
       " 2144,\n",
       " 2152,\n",
       " 2159,\n",
       " 2154,\n",
       " 2159,\n",
       " 2162,\n",
       " 2164,\n",
       " 2158,\n",
       " 2163,\n",
       " 2162,\n",
       " 2159,\n",
       " 2165,\n",
       " 2166,\n",
       " 2167,\n",
       " 2165,\n",
       " 2169,\n",
       " 2172,\n",
       " 2182,\n",
       " 2188,\n",
       " 2173,\n",
       " 2182,\n",
       " 2175,\n",
       " 2182,\n",
       " 2203,\n",
       " 2205,\n",
       " 2206,\n",
       " 2212,\n",
       " 2213,\n",
       " 2218,\n",
       " 2229,\n",
       " 2226,\n",
       " 2233,\n",
       " 2235,\n",
       " 2233,\n",
       " 2257,\n",
       " 2258,\n",
       " 2284,\n",
       " 2280,\n",
       " 2282,\n",
       " 2285,\n",
       " 2279,\n",
       " 2280,\n",
       " 2291,\n",
       " 2292,\n",
       " 2293,\n",
       " 2294,\n",
       " 2291,\n",
       " 2292,\n",
       " 2293,\n",
       " 2300,\n",
       " 2308,\n",
       " 2303,\n",
       " 2308,\n",
       " 2312,\n",
       " 2311,\n",
       " 2320,\n",
       " 2315,\n",
       " 2326,\n",
       " 2328,\n",
       " 2330,\n",
       " 2352,\n",
       " 2349,\n",
       " 2352,\n",
       " 2357,\n",
       " 2346,\n",
       " 2360,\n",
       " 2375,\n",
       " 2374,\n",
       " 2375,\n",
       " 2377,\n",
       " 2385,\n",
       " 2392,\n",
       " 2383,\n",
       " 2386,\n",
       " 2388,\n",
       " 2403,\n",
       " 2411,\n",
       " 2400,\n",
       " 2401,\n",
       " 2402,\n",
       " 2399,\n",
       " 2400,\n",
       " 2401,\n",
       " 2397,\n",
       " 2417,\n",
       " 2419,\n",
       " 2431,\n",
       " 2430,\n",
       " 2429,\n",
       " 2421,\n",
       " 2429,\n",
       " 2427,\n",
       " 2428,\n",
       " 2429,\n",
       " 2424,\n",
       " 2425,\n",
       " 2426,\n",
       " 2432,\n",
       " 2433,\n",
       " 2435,\n",
       " 2436,\n",
       " 2441,\n",
       " 2454,\n",
       " 2455,\n",
       " 2456,\n",
       " 2464,\n",
       " 2462,\n",
       " 2463,\n",
       " 2465,\n",
       " 2475,\n",
       " 2489,\n",
       " 2495,\n",
       " 2497,\n",
       " 2467,\n",
       " 2484,\n",
       " 2486,\n",
       " 2487,\n",
       " 2502,\n",
       " 2509,\n",
       " 2504,\n",
       " 2503,\n",
       " 2496,\n",
       " 2515,\n",
       " 2516,\n",
       " 2542,\n",
       " 2550,\n",
       " 2552,\n",
       " 2554,\n",
       " 2557,\n",
       " 2559,\n",
       " 2565,\n",
       " 2563,\n",
       " 2552,\n",
       " 2553,\n",
       " 2555,\n",
       " 2552,\n",
       " 2559,\n",
       " 2564,\n",
       " 2565,\n",
       " 2548,\n",
       " 2546,\n",
       " 2536,\n",
       " 2540,\n",
       " 2542,\n",
       " 2543,\n",
       " 2544,\n",
       " 2561,\n",
       " 2550,\n",
       " 2551,\n",
       " 2552,\n",
       " 2556,\n",
       " 2562,\n",
       " 2559,\n",
       " 2596,\n",
       " 2583,\n",
       " 2586,\n",
       " 2584,\n",
       " 2585,\n",
       " 2590,\n",
       " 2592,\n",
       " 2590,\n",
       " 2591,\n",
       " 2599,\n",
       " 2615,\n",
       " 2617,\n",
       " 2595,\n",
       " 2599,\n",
       " 2607,\n",
       " 2605,\n",
       " 2600,\n",
       " 2612,\n",
       " 2611,\n",
       " 2591,\n",
       " 2611,\n",
       " 2590,\n",
       " 2599,\n",
       " 2597,\n",
       " 2604,\n",
       " 2612,\n",
       " 2613,\n",
       " 2620,\n",
       " 2603,\n",
       " 2592,\n",
       " 2604,\n",
       " 2606,\n",
       " 2588,\n",
       " 2591,\n",
       " 2577,\n",
       " 2576,\n",
       " 2606,\n",
       " 2605,\n",
       " 2614,\n",
       " 2618,\n",
       " 2622,\n",
       " 2633,\n",
       " 2636,\n",
       " 2648,\n",
       " 2649,\n",
       " 2638,\n",
       " 2637,\n",
       " 2644,\n",
       " 2651,\n",
       " 2650,\n",
       " 2651,\n",
       " 2658,\n",
       " 2657,\n",
       " 2659,\n",
       " 2661,\n",
       " 2660,\n",
       " 2658,\n",
       " 2669,\n",
       " 2676,\n",
       " 2688,\n",
       " 2691,\n",
       " 2693,\n",
       " 2697,\n",
       " 2698,\n",
       " 2702,\n",
       " 2699,\n",
       " 2706,\n",
       " 2707,\n",
       " 2710,\n",
       " 2698,\n",
       " 2697,\n",
       " 2705,\n",
       " 2717,\n",
       " 2718,\n",
       " 2720,\n",
       " 2721,\n",
       " 2731,\n",
       " 2749,\n",
       " 2757,\n",
       " 2765,\n",
       " 2767,\n",
       " 2759,\n",
       " 2776,\n",
       " 2780,\n",
       " 2784,\n",
       " 2778,\n",
       " 2779,\n",
       " 2783,\n",
       " 2788,\n",
       " 2789,\n",
       " 2825,\n",
       " 2826,\n",
       " 2820,\n",
       " 2825,\n",
       " 2852,\n",
       " 2871,\n",
       " 2870,\n",
       " 2872,\n",
       " 2873,\n",
       " 2878,\n",
       " 2882,\n",
       " 2900,\n",
       " 2906,\n",
       " 2908,\n",
       " 2907,\n",
       " 2917,\n",
       " 2931,\n",
       " 2933,\n",
       " 2931,\n",
       " 2952,\n",
       " 2953,\n",
       " 2954,\n",
       " 2962,\n",
       " 2971,\n",
       " 2973,\n",
       " 2960,\n",
       " 2965,\n",
       " 2967,\n",
       " 2968,\n",
       " 2982,\n",
       " 2983,\n",
       " 2994,\n",
       " 2997,\n",
       " 3014,\n",
       " 3026,\n",
       " 3028,\n",
       " 3040,\n",
       " 3057,\n",
       " 3063,\n",
       " 3064,\n",
       " 3065,\n",
       " 3066,\n",
       " 3073,\n",
       " 3056,\n",
       " 3052,\n",
       " 3067,\n",
       " 3070,\n",
       " 3071,\n",
       " 3072,\n",
       " 3073,\n",
       " 3077,\n",
       " 3078,\n",
       " 3074,\n",
       " 3083,\n",
       " 3082,\n",
       " 3079,\n",
       " 3080,\n",
       " 3081,\n",
       " 3073,\n",
       " 3069,\n",
       " 3072,\n",
       " 3081,\n",
       " 3111,\n",
       " 3109,\n",
       " 3112,\n",
       " 3126,\n",
       " 3127,\n",
       " 3128,\n",
       " 3129,\n",
       " 3135,\n",
       " 3146,\n",
       " 3147,\n",
       " 3149,\n",
       " 3142,\n",
       " 3148,\n",
       " 3152,\n",
       " 3165,\n",
       " 3173,\n",
       " 3201,\n",
       " 3216,\n",
       " 3217,\n",
       " 3218,\n",
       " 3217,\n",
       " 3235,\n",
       " 3236,\n",
       " 3241,\n",
       " 3247,\n",
       " 3248,\n",
       " 3249,\n",
       " 3251,\n",
       " 3252,\n",
       " 3251,\n",
       " 3250,\n",
       " 3252,\n",
       " 3260,\n",
       " 3261,\n",
       " 3259,\n",
       " 3255,\n",
       " 3256,\n",
       " 3257,\n",
       " 3258,\n",
       " 3259,\n",
       " 3264,\n",
       " 3299,\n",
       " 3300,\n",
       " 3304,\n",
       " 3313,\n",
       " 3326,\n",
       " 3324,\n",
       " 3326,\n",
       " 3331,\n",
       " 3340,\n",
       " 3341,\n",
       " 3343,\n",
       " 3348,\n",
       " 3342,\n",
       " 3380,\n",
       " 3381,\n",
       " 3370,\n",
       " 3374,\n",
       " 3390,\n",
       " 3379,\n",
       " 3382,\n",
       " 3383,\n",
       " 3386,\n",
       " 3388,\n",
       " 3382,\n",
       " 3386,\n",
       " 3402,\n",
       " 3400,\n",
       " 3406,\n",
       " 3408,\n",
       " 3407,\n",
       " 3409,\n",
       " 3411,\n",
       " 3412,\n",
       " 3411,\n",
       " 3412,\n",
       " 3422,\n",
       " 3441,\n",
       " 3446,\n",
       " 3451,\n",
       " 3449,\n",
       " 3451,\n",
       " 3480,\n",
       " 3500,\n",
       " 3511,\n",
       " 3520,\n",
       " 3521,\n",
       " 3525,\n",
       " 3548,\n",
       " 3557,\n",
       " 3558,\n",
       " 3560,\n",
       " 3561,\n",
       " 3562,\n",
       " 3570,\n",
       " 3571,\n",
       " 3575,\n",
       " 3571,\n",
       " 3570,\n",
       " 3574,\n",
       " 3576,\n",
       " 3583,\n",
       " 3587,\n",
       " 3594,\n",
       " 3615,\n",
       " 3619,\n",
       " 3620,\n",
       " 3622,\n",
       " 3607,\n",
       " 3599,\n",
       " 3602,\n",
       " 3604,\n",
       " 3607,\n",
       " 3617,\n",
       " 3618,\n",
       " 3623,\n",
       " 3626,\n",
       " 3632,\n",
       " 3637,\n",
       " 3635,\n",
       " 3640,\n",
       " 3641,\n",
       " 3642,\n",
       " 3654,\n",
       " 3668,\n",
       " 3669,\n",
       " 3675,\n",
       " 3670,\n",
       " 3672,\n",
       " 3675,\n",
       " 3684,\n",
       " 3688,\n",
       " 3701,\n",
       " 3699,\n",
       " 3705,\n",
       " 3704,\n",
       " 3718,\n",
       " 3724,\n",
       " 3717,\n",
       " 3734,\n",
       " 3736,\n",
       " 3741,\n",
       " 3729,\n",
       " 3730,\n",
       " 3731,\n",
       " 3722,\n",
       " 3717,\n",
       " 3718,\n",
       " 3711,\n",
       " 3708,\n",
       " ...]"
      ]
     },
     "execution_count": 52,
     "metadata": {},
     "output_type": "execute_result"
    }
   ],
   "source": [
    "c"
   ]
  },
  {
   "cell_type": "code",
   "execution_count": 72,
   "metadata": {},
   "outputs": [],
   "source": [
    "x = [0,1,2,3]"
   ]
  },
  {
   "cell_type": "code",
   "execution_count": 73,
   "metadata": {},
   "outputs": [
    {
     "data": {
      "text/plain": [
       "1"
      ]
     },
     "execution_count": 73,
     "metadata": {},
     "output_type": "execute_result"
    }
   ],
   "source": [
    "x[-3]"
   ]
  },
  {
   "cell_type": "code",
   "execution_count": 89,
   "metadata": {},
   "outputs": [
    {
     "ename": "TypeError",
     "evalue": "unsupported operand type(s) for +: 'int' and 'str'",
     "output_type": "error",
     "traceback": [
      "\u001b[0;31m---------------------------------------------------------------------------\u001b[0m",
      "\u001b[0;31mTypeError\u001b[0m                                 Traceback (most recent call last)",
      "\u001b[0;32m/var/folders/pr/xrwsh52s27d30qww052h5q1h0000gn/T/ipykernel_992/3612679103.py\u001b[0m in \u001b[0;36m<module>\u001b[0;34m\u001b[0m\n\u001b[0;32m----> 1\u001b[0;31m \u001b[0;34m(\u001b[0m\u001b[0;34m*\u001b[0m\u001b[0ma\u001b[0m\u001b[0;34m,\u001b[0m\u001b[0;34m)\u001b[0m\u001b[0;34m=\u001b[0m\u001b[0mopen\u001b[0m\u001b[0;34m(\u001b[0m\u001b[0;34m'i'\u001b[0m\u001b[0;34m)\u001b[0m\u001b[0;34m;\u001b[0m\u001b[0mb\u001b[0m\u001b[0;34m=\u001b[0m\u001b[0;36m0\u001b[0m\u001b[0;34m;\u001b[0m\u001b[0mprint\u001b[0m\u001b[0;34m(\u001b[0m\u001b[0msum\u001b[0m\u001b[0;34m(\u001b[0m\u001b[0mb\u001b[0m\u001b[0;34m<\u001b[0m\u001b[0;34m(\u001b[0m\u001b[0mb\u001b[0m\u001b[0;34m:=\u001b[0m\u001b[0msum\u001b[0m\u001b[0;34m(\u001b[0m\u001b[0;34m(\u001b[0m\u001b[0ma\u001b[0m\u001b[0;34m:=\u001b[0m\u001b[0ma\u001b[0m\u001b[0;34m+\u001b[0m\u001b[0;34m[\u001b[0m\u001b[0mint\u001b[0m\u001b[0;34m(\u001b[0m\u001b[0mn\u001b[0m\u001b[0;34m)\u001b[0m\u001b[0;34m]\u001b[0m\u001b[0;34m)\u001b[0m\u001b[0;34m[\u001b[0m\u001b[0;34m-\u001b[0m\u001b[0;36m3\u001b[0m\u001b[0;34m:\u001b[0m\u001b[0;34m]\u001b[0m\u001b[0;34m)\u001b[0m\u001b[0;34m)\u001b[0m \u001b[0;32mfor\u001b[0m \u001b[0mn\u001b[0m \u001b[0;32min\u001b[0m \u001b[0ma\u001b[0m\u001b[0;34m)\u001b[0m\u001b[0;34m-\u001b[0m\u001b[0;36m3\u001b[0m\u001b[0;34m)\u001b[0m\u001b[0;34m\u001b[0m\u001b[0;34m\u001b[0m\u001b[0m\n\u001b[0m\u001b[1;32m      2\u001b[0m \u001b[0;34m\u001b[0m\u001b[0m\n\u001b[1;32m      3\u001b[0m \u001b[0mlen\u001b[0m\u001b[0;34m(\u001b[0m\u001b[0;34m\"a,b=[],0;print(sum(b<(b:=sum((a:=a+[int(n)])[-3:])) for n in open('i'))-3)\"\u001b[0m\u001b[0;34m)\u001b[0m\u001b[0;34m\u001b[0m\u001b[0;34m\u001b[0m\u001b[0m\n",
      "\u001b[0;32m/var/folders/pr/xrwsh52s27d30qww052h5q1h0000gn/T/ipykernel_992/3612679103.py\u001b[0m in \u001b[0;36m<genexpr>\u001b[0;34m(.0)\u001b[0m\n\u001b[0;32m----> 1\u001b[0;31m \u001b[0;34m(\u001b[0m\u001b[0;34m*\u001b[0m\u001b[0ma\u001b[0m\u001b[0;34m,\u001b[0m\u001b[0;34m)\u001b[0m\u001b[0;34m=\u001b[0m\u001b[0mopen\u001b[0m\u001b[0;34m(\u001b[0m\u001b[0;34m'i'\u001b[0m\u001b[0;34m)\u001b[0m\u001b[0;34m;\u001b[0m\u001b[0mb\u001b[0m\u001b[0;34m=\u001b[0m\u001b[0;36m0\u001b[0m\u001b[0;34m;\u001b[0m\u001b[0mprint\u001b[0m\u001b[0;34m(\u001b[0m\u001b[0msum\u001b[0m\u001b[0;34m(\u001b[0m\u001b[0mb\u001b[0m\u001b[0;34m<\u001b[0m\u001b[0;34m(\u001b[0m\u001b[0mb\u001b[0m\u001b[0;34m:=\u001b[0m\u001b[0msum\u001b[0m\u001b[0;34m(\u001b[0m\u001b[0;34m(\u001b[0m\u001b[0ma\u001b[0m\u001b[0;34m:=\u001b[0m\u001b[0ma\u001b[0m\u001b[0;34m+\u001b[0m\u001b[0;34m[\u001b[0m\u001b[0mint\u001b[0m\u001b[0;34m(\u001b[0m\u001b[0mn\u001b[0m\u001b[0;34m)\u001b[0m\u001b[0;34m]\u001b[0m\u001b[0;34m)\u001b[0m\u001b[0;34m[\u001b[0m\u001b[0;34m-\u001b[0m\u001b[0;36m3\u001b[0m\u001b[0;34m:\u001b[0m\u001b[0;34m]\u001b[0m\u001b[0;34m)\u001b[0m\u001b[0;34m)\u001b[0m \u001b[0;32mfor\u001b[0m \u001b[0mn\u001b[0m \u001b[0;32min\u001b[0m \u001b[0ma\u001b[0m\u001b[0;34m)\u001b[0m\u001b[0;34m-\u001b[0m\u001b[0;36m3\u001b[0m\u001b[0;34m)\u001b[0m\u001b[0;34m\u001b[0m\u001b[0;34m\u001b[0m\u001b[0m\n\u001b[0m\u001b[1;32m      2\u001b[0m \u001b[0;34m\u001b[0m\u001b[0m\n\u001b[1;32m      3\u001b[0m \u001b[0mlen\u001b[0m\u001b[0;34m(\u001b[0m\u001b[0;34m\"a,b=[],0;print(sum(b<(b:=sum((a:=a+[int(n)])[-3:])) for n in open('i'))-3)\"\u001b[0m\u001b[0;34m)\u001b[0m\u001b[0;34m\u001b[0m\u001b[0;34m\u001b[0m\u001b[0m\n",
      "\u001b[0;31mTypeError\u001b[0m: unsupported operand type(s) for +: 'int' and 'str'"
     ]
    }
   ],
   "source": [
    "(*a,)=open('i');b=0;print(sum(b<(b:=sum((a:=a+[int(n)])[-3:])) for n in a)-3)\n",
    "\n",
    "len(\"a,b=[],0;print(sum(b<(b:=sum((a:=a+[int(n)])[-3:])) for n in open('i'))-3)\")"
   ]
  },
  {
   "cell_type": "code",
   "execution_count": 91,
   "metadata": {},
   "outputs": [],
   "source": [
    "a,*b=open('i');print(sum(a + for i in range(b)"
   ]
  },
  {
   "cell_type": "code",
   "execution_count": null,
   "metadata": {},
   "outputs": [],
   "source": []
  }
 ],
 "metadata": {
  "interpreter": {
   "hash": "2a15b5884ee2cc9180c3fad60afb999633c0c6f349efbc5498ac7868b0ce4ae8"
  },
  "kernelspec": {
   "display_name": "Python 3.8.12 64-bit ('advent_of_code': conda)",
   "language": "python",
   "name": "python3"
  },
  "language_info": {
   "codemirror_mode": {
    "name": "ipython",
    "version": 3
   },
   "file_extension": ".py",
   "mimetype": "text/x-python",
   "name": "python",
   "nbconvert_exporter": "python",
   "pygments_lexer": "ipython3",
   "version": "3.8.12"
  },
  "orig_nbformat": 4
 },
 "nbformat": 4,
 "nbformat_minor": 2
}
