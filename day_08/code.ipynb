{
 "cells": [
  {
   "cell_type": "markdown",
   "metadata": {},
   "source": [
    "# Puzzle 1\n",
    "\n",
    "Let's first list the sections that the numbers should use and a count.\n",
    "\n",
    "| Digit | Segments | Count | Unique |\n",
    "|-------|----------|-------|--------|\n",
    "| 0     | abcefg   | 6     |        |\n",
    "| 1     | cf       | 2     | x      |\n",
    "| 2     | acdeg    | 5     |        |\n",
    "| 3     | acdfg    | 5     |        |\n",
    "| 4     | bcdf     | 4     | x      |\n",
    "| 5     | abdfg    | 5     |        |\n",
    "| 6     | abdefg   | 6     |        |\n",
    "| 7     | acf      | 3     | x      |\n",
    "| 8     | abcdefg  | 7     | x      |\n",
    "| 9     | abcdfg   | 6     |        |"
   ]
  },
  {
   "cell_type": "code",
   "execution_count": 12,
   "metadata": {},
   "outputs": [
    {
     "data": {
      "text/plain": [
       "397"
      ]
     },
     "execution_count": 12,
     "metadata": {},
     "output_type": "execute_result"
    }
   ],
   "source": [
    "sum(len(d)in[2,4,3,7] for l in open('i') for d in l.split()[-4:])"
   ]
  },
  {
   "cell_type": "markdown",
   "metadata": {},
   "source": [
    "# Puzzle 2\n",
    "\n",
    "| Digit | a | b | c | d | e | f | g |\n",
    "|-------|---|---|---|---|---|---|---|\n",
    "| 0     | x | x | x |   | x | x | x |\n",
    "| 1     |   |   | x |   |   | x |   |\n",
    "| 2     | x |   | x | x | x |   | x |\n",
    "| 3     | x |   | x | x |   | x | x |\n",
    "| 4     |   | x | x | x |   | x |   |\n",
    "| 5     | x | x |   | x |   | x | x |\n",
    "| 6     | x | x |   | x | x | x | x |\n",
    "| 7     | x |   | x |   |   | x |   |\n",
    "| 8     | x | x | x | x | x | x | x |\n",
    "| 9     | x | x | x | x |   | x | x |\n",
    "\n",
    ".\n",
    "\n",
    "| Digit | a | b | c | d | e | f | g |\n",
    "|-------|---|---|---|---|---|---|---|\n",
    "| 8     | x | x | x | x | x | x | x |\n",
    "| 9     | x | x | x | x |   | x | x |\n",
    "| 0     | x | x | x |   | x | x | x |\n",
    "| 6     | x | x |   | x | x | x | x |\n",
    "| 5     | x | x |   | x |   | x | x |\n",
    "| 2     | x |   | x | x | x |   | x |\n",
    "| 3     | x |   | x | x |   | x | x |\n",
    "| 7     | x |   | x |   |   | x |   |\n",
    "| 4     |   | x | x | x |   | x |   |\n",
    "| 1     |   |   | x |   |   | x |   |\n",
    "\n",
    ".\n",
    "\n",
    "| Digit | a | b | c | d | e | f | g | count |\n",
    "|-------|---|---|---|---|---|---|---|-------|\n",
    "| 1     |   |   | x |   |   | x |   | 2     |\n",
    "| 4     |   | x | x | x |   | x |   | 4     |\n",
    "| 7     | x |   | x |   |   | x |   | 3     |\n",
    "| 8     | x | x | x | x | x | x | x | 7     |\n",
    "||||||||||\n",
    "| 2     | x |   | x | x | x |   | x | 5     |\n",
    "| 3     | x |   | x | x |   | x | x | 5     |\n",
    "| 5     | x | x |   | x |   | x | x | 5     |\n",
    "||||||||||\n",
    "| 9     | x | x | x | x |   | x | x | 6     |\n",
    "| 0     | x | x | x |   | x | x | x | 6     |\n",
    "| 6     | x | x |   | x | x | x | x | 6     |"
   ]
  },
  {
   "cell_type": "markdown",
   "metadata": {},
   "source": [
    "map 1, 4, 7, 8\n",
    "\n",
    "\n",
    "\n",
    "The rest is group y\n",
    "\n",
    "determine which letter is missing in 1 from y, that is f\n",
    "\n",
    "then determine c from group z that is 2"
   ]
  },
  {
   "cell_type": "markdown",
   "metadata": {},
   "source": [
    "### test"
   ]
  },
  {
   "cell_type": "code",
   "execution_count": 35,
   "metadata": {},
   "outputs": [
    {
     "name": "stdout",
     "output_type": "stream",
     "text": [
      "|   || 0 | 1 | 2 | 3 | 4 | 5 | 6 | 7 | 8 | 9 |\n",
      "| 1 || 2 | 2 | 1 | 2 | 2 | 1 | 1 | 2 | 2 | 2 |\n",
      "| 4 || 3 | 2 | 2 | 3 | 4 | 3 | 3 | 2 | 4 | 4 |\n",
      "| 7 || 3 | 2 | 2 | 3 | 2 | 2 | 2 | 3 | 3 | 3 |\n",
      "| 8 || 6 | 2 | 5 | 5 | 4 | 5 | 6 | 3 | 7 | 6 |\n"
     ]
    }
   ],
   "source": [
    "m = dict(map(lambda i: (i[0], set(i[1])), {\n",
    "    0: 'abcefg',\n",
    "    1: 'cf',\n",
    "    2: 'acdeg',\n",
    "    3: 'acdfg',\n",
    "    4: 'bcdf',\n",
    "    5: 'abdfg',\n",
    "    6: 'abdefg',\n",
    "    7: 'acf',\n",
    "    8: 'abcdefg',\n",
    "    9: 'abcdfg'\n",
    "}.items()))\n",
    "\n",
    "x = [0, 1, 2, 3, 4, 5, 6, 7, 8, 9]\n",
    "y = [1, 4, 7, 8]\n",
    "\n",
    "print(\"|   || \" + \" | \".join([str(b) for b in x]) + ' |')\n",
    "print(\"\\n\".join([\n",
    "    f\"| {a} || \" + \" | \" .join([\n",
    "        str(len(m[a] & m[b]))\n",
    "        for b in x\n",
    "    ]) + \" |\"\n",
    "    for a in y\n",
    "]))"
   ]
  },
  {
   "cell_type": "markdown",
   "metadata": {},
   "source": [
    "### Test\n",
    "\n",
    "|   || 0 | 1 | 2 | 3 | 4 | 5 | 6 | 7 | 8 | 9 |\n",
    "|---|-|---|---|---|---|---|---|---|---|---|---|\n",
    "| 0 || 6 | 2 | 4 | 4 | 3 | 4 | 5 | 3 | 6 | 5 |\n",
    "| 1 || 2 | 2 | 1 | 2 | 2 | 1 | 1 | 2 | 2 | 2 |\n",
    "| 2 || 4 | 1 | 5 | 4 | 2 | 3 | 4 | 2 | 5 | 4 |\n",
    "| 3 || 4 | 2 | 4 | 5 | 3 | 4 | 4 | 3 | 5 | 5 |\n",
    "| 4 || 3 | 2 | 2 | 3 | 4 | 3 | 3 | 2 | 4 | 4 |\n",
    "| 5 || 4 | 1 | 3 | 4 | 3 | 5 | 5 | 2 | 5 | 5 |\n",
    "| 6 || 5 | 1 | 4 | 4 | 3 | 5 | 6 | 2 | 6 | 5 |\n",
    "| 7 || 3 | 2 | 2 | 3 | 2 | 2 | 2 | 3 | 3 | 3 |\n",
    "| 8 || 6 | 2 | 5 | 5 | 4 | 5 | 6 | 3 | 7 | 6 |\n",
    "| 9 || 5 | 2 | 4 | 5 | 4 | 5 | 5 | 3 | 6 | 6 |"
   ]
  },
  {
   "cell_type": "code",
   "execution_count": 41,
   "metadata": {},
   "outputs": [
    {
     "data": {
      "text/plain": [
       "5353"
      ]
     },
     "execution_count": 41,
     "metadata": {},
     "output_type": "execute_result"
    }
   ],
   "source": [
    "def create_mapping(digits):\n",
    "    m = dict()\n",
    "\n",
    "    m[1] = [digit for digit in digits if len(digit) == 2][0]\n",
    "    m[4] = [digit for digit in digits if len(digit) == 4][0]\n",
    "    m[7] = [digit for digit in digits if len(digit) == 3][0]\n",
    "    m[8] = [digit for digit in digits if len(digit) == 7][0]\n",
    "\n",
    "    l5 = [digit for digit in digits if len(digit) == 5]\n",
    "    l6 = [digit for digit in digits if len(digit) == 6]\n",
    "\n",
    "    m[2] = [digit for digit in l5 if len(m[4] & digit) == 2][0]\n",
    "    m[3] = [digit for digit in l5 if len(m[1] & digit) == 2][0]\n",
    "    m[5] = [digit for digit in l5 if len(m[2] & digit) == 3][0]\n",
    "\n",
    "    m[6] = [digit for digit in l6 if len(m[1] & digit) == 1][0]\n",
    "    m[9] = [digit for digit in l6 if len(m[4] & digit) == 4][0]\n",
    "    m[0] = [digit for digit in l6 if len(m[5] & digit) == 4][0]\n",
    "\n",
    "    return {tuple(sorted(v)):k for k,v in m.items()}\n",
    "\n",
    "line = next(open('t'))\n",
    "digits, target = line.split('|')\n",
    "\n",
    "m = create_mapping([*map(set, digits.split())])\n",
    "int(''.join(str(m[tuple(sorted(digit))]) for digit in target.split()))\n"
   ]
  },
  {
   "cell_type": "code",
   "execution_count": 44,
   "metadata": {},
   "outputs": [
    {
     "data": {
      "text/plain": [
       "1027422"
      ]
     },
     "execution_count": 44,
     "metadata": {},
     "output_type": "execute_result"
    }
   ],
   "source": [
    "def create_mapping(digits):\n",
    "    m = dict()\n",
    "\n",
    "    m[1] = [digit for digit in digits if len(digit) == 2][0]\n",
    "    m[4] = [digit for digit in digits if len(digit) == 4][0]\n",
    "    m[7] = [digit for digit in digits if len(digit) == 3][0]\n",
    "    m[8] = [digit for digit in digits if len(digit) == 7][0]\n",
    "\n",
    "    l5 = [digit for digit in digits if len(digit) == 5]\n",
    "    l6 = [digit for digit in digits if len(digit) == 6]\n",
    "\n",
    "    m[2] = [digit for digit in l5 if len(m[4] & digit) == 2][0]\n",
    "    m[3] = [digit for digit in l5 if len(m[1] & digit) == 2][0]\n",
    "    m[5] = [digit for digit in l5 if len(m[2] & digit) == 3][0]\n",
    "\n",
    "    m[6] = [digit for digit in l6 if len(m[1] & digit) == 1][0]\n",
    "    m[9] = [digit for digit in l6 if len(m[4] & digit) == 4][0]\n",
    "    m[0] = [digit for digit in l6 if len(m[5] & digit) == 4][0]\n",
    "\n",
    "    return {tuple(sorted(v)):k for k,v in m.items()}\n",
    "\n",
    "sum(int(''.join(str(create_mapping([*map(set, line.split('|')[0].split())])[tuple(sorted(digit))]) for digit in line.split('|')[1].split())) for line in open('i'))\n"
   ]
  },
  {
   "cell_type": "code",
   "execution_count": 47,
   "metadata": {},
   "outputs": [
    {
     "data": {
      "text/plain": [
       "1027422"
      ]
     },
     "execution_count": 47,
     "metadata": {},
     "output_type": "execute_result"
    }
   ],
   "source": [
    "def create_mapping(digits):\n",
    "    m = dict()\n",
    "\n",
    "    m[1] = [digit for digit in digits if len(digit) == 2][0]\n",
    "    m[4] = [digit for digit in digits if len(digit) == 4][0]\n",
    "    m[7] = [digit for digit in digits if len(digit) == 3][0]\n",
    "    m[8] = [digit for digit in digits if len(digit) == 7][0]\n",
    "\n",
    "    l5 = [digit for digit in digits if len(digit) == 5]\n",
    "    l6 = [digit for digit in digits if len(digit) == 6]\n",
    "\n",
    "    m[2] = [digit for digit in l5 if len(m[4] & digit) == 2][0]\n",
    "    m[3] = [digit for digit in l5 if len(m[1] & digit) == 2][0]\n",
    "    m[5] = [digit for digit in l5 if len(m[2] & digit) == 3][0]\n",
    "\n",
    "    m[6] = [digit for digit in l6 if len(m[1] & digit) == 1][0]\n",
    "    m[9] = [digit for digit in l6 if len(m[4] & digit) == 4][0]\n",
    "    m[0] = [digit for digit in l6 if len(m[5] & digit) == 4][0]\n",
    "\n",
    "    return {v:k for k,v in m.items()}\n",
    "\n",
    "sum(\n",
    "    int(\n",
    "        ''.join(\n",
    "            str(\n",
    "                create_mapping(\n",
    "                    [*map(frozenset, line.split('|')[0].split())]\n",
    "                )[frozenset(digit)]\n",
    "            ) \n",
    "            for digit in line.split('|')[1].split()\n",
    "        )\n",
    "    ) \n",
    "    for line in open('i')\n",
    ")"
   ]
  },
  {
   "cell_type": "code",
   "execution_count": 49,
   "metadata": {},
   "outputs": [
    {
     "data": {
      "text/plain": [
       "1027422"
      ]
     },
     "execution_count": 49,
     "metadata": {},
     "output_type": "execute_result"
    }
   ],
   "source": [
    "get_element = lambda digits, length, overlap_set=set(), overlap_size=0: [digit for digit in digits if len(digit) == length and len(overlap_set & digit) == overlap_size][0]\n",
    "\n",
    "def create_mapping(digits):\n",
    "    m = dict()\n",
    "\n",
    "    m[1] = get_element(digits, 2)\n",
    "    m[4] = get_element(digits, 4)\n",
    "    m[7] = get_element(digits, 3)\n",
    "    m[8] = get_element(digits, 7)\n",
    "\n",
    "    m[2] = get_element(digits, 5, m[4], 2)\n",
    "    m[3] = get_element(digits, 5, m[1], 2)\n",
    "    m[5] = get_element(digits, 5, m[2], 3)\n",
    "\n",
    "    m[6] = get_element(digits, 6, m[1], 1)\n",
    "    m[9] = get_element(digits, 6, m[4], 4)\n",
    "    m[0] = get_element(digits, 6, m[5], 4)\n",
    "\n",
    "    return {v:k for k,v in m.items()}\n",
    "\n",
    "sum(\n",
    "    int(\n",
    "        ''.join(\n",
    "            str(\n",
    "                create_mapping(\n",
    "                    [*map(frozenset, line.split('|')[0].split())]\n",
    "                )[frozenset(digit)]\n",
    "            ) \n",
    "            for digit in line.split('|')[1].split()\n",
    "        )\n",
    "    ) \n",
    "    for line in open('i')\n",
    ")"
   ]
  },
  {
   "cell_type": "code",
   "execution_count": 55,
   "metadata": {},
   "outputs": [
    {
     "data": {
      "text/plain": [
       "1027422"
      ]
     },
     "execution_count": 55,
     "metadata": {},
     "output_type": "execute_result"
    }
   ],
   "source": [
    "resolver = {\n",
    "    1: (2,),\n",
    "    4: (4,),\n",
    "    7: (3,),\n",
    "    8: (7,),\n",
    "\n",
    "    2: (5, 4, 2),\n",
    "    3: (5, 1, 2),\n",
    "    6: (6, 1, 1),\n",
    "    9: (6, 4, 4),\n",
    "\n",
    "    5: (5, 2, 3),\n",
    "    0: (6, 5, 4),\n",
    "}\n",
    "get_element = lambda digits, length, overlap_digit=0, overlap_size=0: [digit for digit in digits if len(digit) == length and (overlap_size==0 or len(get_element(digits, *resolver[overlap_digit]) & digit) == overlap_size)][0]\n",
    "\n",
    "sum(\n",
    "    int(\n",
    "        ''.join(\n",
    "            str(\n",
    "                {\n",
    "                    get_element([*map(frozenset, line.split('|')[0].split())], *resolver[k]):k \n",
    "                    for k in range(10)\n",
    "                }[frozenset(digit)]\n",
    "            ) \n",
    "            for digit in line.split('|')[1].split()\n",
    "        )\n",
    "    ) \n",
    "    for line in open('i')\n",
    ")"
   ]
  },
  {
   "cell_type": "code",
   "execution_count": 81,
   "metadata": {},
   "outputs": [
    {
     "name": "stdout",
     "output_type": "stream",
     "text": [
      "1027422\n"
     ]
    },
    {
     "data": {
      "text/plain": [
       "318"
      ]
     },
     "execution_count": 81,
     "metadata": {},
     "output_type": "execute_result"
    }
   ],
   "source": [
    "f=frozenset;r={1:(2,),4:(4,),7:(3,),8:(7,),2:(5,4,2),3:(5,1,2),6:(6,1,1),9:(6,4,4),5:(5,2,3),0:(6,5,4)};e=lambda d,l,o=0,c=0:[s for s in d if len(s)==l and(c==0 or len(e(d,*r[o])&s)==c)][0];print(sum(int(''.join(str({e([*map(f,l.split()[:-5])],*r[k]):k for k in r}[f(d)]) for d in l.split()[-4:])) for l in open('i')))\n",
    "\n",
    "len(\"f=frozenset;r={1:(2,),4:(4,),7:(3,),8:(7,),2:(5,4,2),3:(5,1,2),6:(6,1,1),9:(6,4,4),5:(5,2,3),0:(6,5,4)};e=lambda d,l,o=0,c=0:[s for s in d if len(s)==l and(c==0 or len(e(d,*r[o])&s)==c)][0];print(sum(int(''.join(str({e([*map(f,l.split()[:-5])],*r[k]):k for k in r}[f(d)]) for d in l.split()[-4:])) for l in open('i')))\")"
   ]
  },
  {
   "cell_type": "code",
   "execution_count": null,
   "metadata": {},
   "outputs": [],
   "source": [
    "f=frozenset;r={1:(2,),4:(4,),7:(3,),8:(7,),2:(5,4,2),3:(5,1,2),6:(6,1,1),9:(6,4,4),5:(5,2,3),0:(6,5,4)};e=lambda d,l,o=0,c=0:[s for s in d if len(s)==l and(c==0 or len(e(d,*r[o])&s)==c)][0];print(sum(int(''.join(str({e([*map(f,l.split()[:-4])],*r[k]):k for k in r}[f(d)]) for d in l.split()[-4:])) for l in open('i')))\n",
    "f=frozenset;r={1:(2,),4:(4,),7:(3,),8:(7,),2:(5,4,2),3:(5,1,2),6:(6,1,1),9:(6,4,4),5:(5,2,3),0:(6,5,4)};e=lambda d,l,o=0,c=0:s if len(s:=d[0])==l and(c==0 or len(e(d,*r[o])&s)==c)else e(d[1:],l,o,c);print(sum(int(''.join(str({e([*map(f,l.split()[:-4])],*r[k]):k for k in r}[f(d)]) for d in l.split()[-4:])) for l in open('i')))\n",
    "\n",
    "len(\"f=frozenset;r={1:(2,),4:(4,),7:(3,),8:(7,),2:(5,4,2),3:(5,1,2),6:(6,1,1),9:(6,4,4),5:(5,2,3),0:(6,5,4)};e=lambda d,l,o=0,c=0:[s for s in d if len(s)==l and(c==0 or len(e(d,*r[o])&s)==c)][0];print(sum(int(''.join(str({e([*map(f,l.split()[:-4])],*r[k]):k for k in r}[f(d)]) for d in l.split()[-4:])) for l in open('i')))\")"
   ]
  }
 ],
 "metadata": {
  "interpreter": {
   "hash": "2a15b5884ee2cc9180c3fad60afb999633c0c6f349efbc5498ac7868b0ce4ae8"
  },
  "kernelspec": {
   "display_name": "Python 3.8.12 64-bit ('advent_of_code': conda)",
   "language": "python",
   "name": "python3"
  },
  "language_info": {
   "codemirror_mode": {
    "name": "ipython",
    "version": 3
   },
   "file_extension": ".py",
   "mimetype": "text/x-python",
   "name": "python",
   "nbconvert_exporter": "python",
   "pygments_lexer": "ipython3",
   "version": "3.8.12"
  },
  "orig_nbformat": 4
 },
 "nbformat": 4,
 "nbformat_minor": 2
}
