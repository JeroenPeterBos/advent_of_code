{
 "cells": [
  {
   "cell_type": "code",
   "execution_count": 1,
   "metadata": {},
   "outputs": [
    {
     "name": "stdout",
     "output_type": "stream",
     "text": [
      "1281977850\n",
      "117\n"
     ]
    }
   ],
   "source": [
    "d=h=a=0;[(h:=h+u,d:=d+u*a)if(u:=int(l[-2]))and(f:=l[0])=='f'else(a:=a+u*((f=='d')*2-1))for l in open('i')];print(d*h)\n",
    "\n",
    "print(len(\"d=h=a=0;[(h:=h+u,d:=d+u*a)if(u:=int(l[-2]))and(f:=l[0])=='f'else(a:=a+u*((f=='d')*2-1))for l in open('i')];print(d*h)\"))"
   ]
  },
  {
   "cell_type": "code",
   "execution_count": null,
   "metadata": {},
   "outputs": [],
   "source": []
  }
 ],
 "metadata": {
  "interpreter": {
   "hash": "2a15b5884ee2cc9180c3fad60afb999633c0c6f349efbc5498ac7868b0ce4ae8"
  },
  "kernelspec": {
   "display_name": "Python 3.8.12 64-bit ('advent_of_code': conda)",
   "language": "python",
   "name": "python3"
  },
  "language_info": {
   "codemirror_mode": {
    "name": "ipython",
    "version": 3
   },
   "file_extension": ".py",
   "mimetype": "text/x-python",
   "name": "python",
   "nbconvert_exporter": "python",
   "pygments_lexer": "ipython3",
   "version": "3.8.12"
  },
  "orig_nbformat": 4
 },
 "nbformat": 4,
 "nbformat_minor": 2
}
