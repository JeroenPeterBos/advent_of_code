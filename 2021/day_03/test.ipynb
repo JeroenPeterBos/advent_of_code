{
 "cells": [
  {
   "cell_type": "markdown",
   "metadata": {},
   "source": [
    "# Puzzle 1"
   ]
  },
  {
   "cell_type": "code",
   "execution_count": 31,
   "metadata": {},
   "outputs": [
    {
     "name": "stdout",
     "output_type": "stream",
     "text": [
      "3882564\n",
      "108\n"
     ]
    }
   ],
   "source": [
    "f=[*open('i')];print((g:=int(''.join(l[len(f)//2]for l in map(sorted,zip(*f))),2))*(g^(2**(len(f[0])-1)-1)))\n",
    "\n",
    "print(len(\"f=[*open('i')];print((g:=int(''.join(l[len(f)//2]for l in map(sorted,zip(*f))),2))*(g^(2**(len(f[0])-1)-1)))\"))"
   ]
  },
  {
   "cell_type": "code",
   "execution_count": null,
   "metadata": {},
   "outputs": [],
   "source": [
    "f=[*open('i')];print((g:=int(''.join(l[len(f)//2]for l in map(sorted,zip(*f))),2))*(g^(2**(len(f[0])-1)-1)))"
   ]
  },
  {
   "cell_type": "code",
   "execution_count": 25,
   "metadata": {},
   "outputs": [
    {
     "name": "stdout",
     "output_type": "stream",
     "text": [
      "0b10110\n",
      "0b11111\n",
      "0b1001\n",
      "9\n"
     ]
    }
   ],
   "source": [
    "print(bin(22))\n",
    "print(bin(2**5-1))\n",
    "print(bin(22^(2**5-1)))\n",
    "print(int(bin(22^(2**5-1)), 2))"
   ]
  },
  {
   "cell_type": "code",
   "execution_count": 26,
   "metadata": {},
   "outputs": [
    {
     "name": "stdout",
     "output_type": "stream",
     "text": [
      "6\n"
     ]
    },
    {
     "data": {
      "text/plain": [
       "22"
      ]
     },
     "execution_count": 26,
     "metadata": {},
     "output_type": "execute_result"
    }
   ],
   "source": [
    "x = '10110\\n'\n",
    "print(len(x))\n",
    "int(x, 2)"
   ]
  },
  {
   "cell_type": "markdown",
   "metadata": {},
   "source": [
    "# Puzzle 2"
   ]
  },
  {
   "cell_type": "code",
   "execution_count": 81,
   "metadata": {},
   "outputs": [
    {
     "name": "stdout",
     "output_type": "stream",
     "text": [
      "3385170\n"
     ]
    }
   ],
   "source": [
    "r=lambda n,o=str.__eq__,d=0:r([*filter(lambda x:o(x[d],sorted([*zip(*n)][d])[len(n)//2]),n)],o,d+1)if n[1:]else int(n[0],2);print(r(l:=[*open('i')])*r(l,str.__ne__))"
   ]
  },
  {
   "cell_type": "code",
   "execution_count": 82,
   "metadata": {},
   "outputs": [
    {
     "data": {
      "text/plain": [
       "165"
      ]
     },
     "execution_count": 82,
     "metadata": {},
     "output_type": "execute_result"
    }
   ],
   "source": [
    "len(\"r=lambda n,o=str.__eq__,d=0:r([*filter(lambda x:o(x[d],sorted([*zip(*n)][d])[len(n)//2]),n)],o,d+1)if n[1:]else int(n[0],2);print(r(l:=[*open('i')])*r(l,str.__ne__))\")"
   ]
  },
  {
   "cell_type": "code",
   "execution_count": 70,
   "metadata": {},
   "outputs": [
    {
     "data": {
      "text/plain": [
       "True"
      ]
     },
     "execution_count": 70,
     "metadata": {},
     "output_type": "execute_result"
    }
   ],
   "source": [
    "a = \"a\"\n",
    "b = \"b\"\n",
    "str.__ne__(a,b)"
   ]
  },
  {
   "cell_type": "code",
   "execution_count": 58,
   "metadata": {},
   "outputs": [
    {
     "name": "stdout",
     "output_type": "stream",
     "text": [
      "0 ['00100\\n', '11110\\n', '10110\\n', '10111\\n', '10101\\n', '01111\\n', '00111\\n', '11100\\n', '10000\\n', '11001\\n', '00010\\n', '01010\\n']\n",
      "1 ['00100\\n', '01111\\n', '00111\\n', '00010\\n', '01010\\n']\n",
      "2 ['01111\\n', '01010\\n']\n",
      "3 ['01010\\n']\n",
      "Fin\n",
      "10\n"
     ]
    },
    {
     "data": {
      "text/plain": [
       "['00100\\n',\n",
       " '11110\\n',\n",
       " '10110\\n',\n",
       " '10111\\n',\n",
       " '10101\\n',\n",
       " '01111\\n',\n",
       " '00111\\n',\n",
       " '11100\\n',\n",
       " '10000\\n',\n",
       " '11001\\n',\n",
       " '00010\\n',\n",
       " '01010\\n']"
      ]
     },
     "execution_count": 58,
     "metadata": {},
     "output_type": "execute_result"
    }
   ],
   "source": [
    "l = [*open('e')]\n",
    "def ox_rating(n, d=0):\n",
    "    print(d,n)\n",
    "    if n[1:]:\n",
    "        b=sorted([*zip(*n)][d])[len(n)//2]\n",
    "        return ox_rating([i for i in n if i[d]==b], d+1)\n",
    "    else:\n",
    "        print(\"Fin\")\n",
    "        return int(n[0],2)\n",
    "\n",
    "print(ox_rating(l))\n",
    "\n",
    "l"
   ]
  },
  {
   "cell_type": "code",
   "execution_count": 37,
   "metadata": {},
   "outputs": [
    {
     "name": "stdout",
     "output_type": "stream",
     "text": [
      "False\n"
     ]
    }
   ],
   "source": [
    "a = [0,]\n",
    "if a[1:]:\n",
    "    print(True)\n",
    "else:\n",
    "    print(False)"
   ]
  },
  {
   "cell_type": "code",
   "execution_count": 60,
   "metadata": {},
   "outputs": [
    {
     "data": {
      "text/plain": [
       "11"
      ]
     },
     "execution_count": 60,
     "metadata": {},
     "output_type": "execute_result"
    }
   ],
   "source": [
    "b = lambda x=4: 1 if x == 0 else x + b(x-1)\n",
    "b(4)"
   ]
  },
  {
   "cell_type": "code",
   "execution_count": 40,
   "metadata": {},
   "outputs": [
    {
     "data": {
      "text/plain": [
       "[0, 1, 2, 3, 4, 5, 6, 7, 8, 9]"
      ]
     },
     "execution_count": 40,
     "metadata": {},
     "output_type": "execute_result"
    }
   ],
   "source": [
    "sorted(x for x in range(10))"
   ]
  }
 ],
 "metadata": {
  "interpreter": {
   "hash": "2a15b5884ee2cc9180c3fad60afb999633c0c6f349efbc5498ac7868b0ce4ae8"
  },
  "kernelspec": {
   "display_name": "Python 3.8.12 64-bit ('advent_of_code': conda)",
   "language": "python",
   "name": "python3"
  },
  "language_info": {
   "codemirror_mode": {
    "name": "ipython",
    "version": 3
   },
   "file_extension": ".py",
   "mimetype": "text/x-python",
   "name": "python",
   "nbconvert_exporter": "python",
   "pygments_lexer": "ipython3",
   "version": "3.8.12"
  },
  "orig_nbformat": 4
 },
 "nbformat": 4,
 "nbformat_minor": 2
}
