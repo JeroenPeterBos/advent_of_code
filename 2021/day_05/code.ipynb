{
 "cells": [
  {
   "cell_type": "markdown",
   "metadata": {},
   "source": [
    "# Puzzle 1"
   ]
  },
  {
   "cell_type": "code",
   "execution_count": 31,
   "metadata": {},
   "outputs": [
    {
     "name": "stdout",
     "output_type": "stream",
     "text": [
      "5145\n"
     ]
    }
   ],
   "source": [
    "def print_board(f):\n",
    "    if len(f) > 0:\n",
    "        max_x = max(k[0] for k in f)\n",
    "        max_y = max(k[1] for k in f)\n",
    "    else:\n",
    "        max_x, max_y = 0, 0\n",
    "\n",
    "    for y in range(max_y+1):\n",
    "        print(''.join([str(f.get((x,y),'.')) for x in range(max_x+1)]))\n",
    "\n",
    "\n",
    "field = dict()\n",
    "for line in open('i'):\n",
    "    a,_,b = line.split()\n",
    "    a,b = sorted([*map(int,p.split(','))] for p in (a, b))\n",
    "    if a[0] == b[0]:\n",
    "        for y in range(a[1], b[1]+1):\n",
    "            field[a[0],y]=field.get((a[0],y),0)+1\n",
    "    elif a[1] == b[1]:\n",
    "        for x in range(a[0],b[0]+1):\n",
    "            field[x,a[1]]=field.get((x,a[1]),0)+1\n",
    "\n",
    "print(sum(field[k]>1 for k in field))"
   ]
  },
  {
   "cell_type": "markdown",
   "metadata": {},
   "source": [
    "# Puzzle 2"
   ]
  },
  {
   "cell_type": "code",
   "execution_count": 32,
   "metadata": {},
   "outputs": [
    {
     "name": "stdout",
     "output_type": "stream",
     "text": [
      "16475\n"
     ]
    }
   ],
   "source": [
    "def print_board(f):\n",
    "    if len(f) > 0:\n",
    "        max_x = max(k[0] for k in f)\n",
    "        max_y = max(k[1] for k in f)\n",
    "    else:\n",
    "        max_x, max_y = 0, 0\n",
    "\n",
    "    for y in range(max_y+1):\n",
    "        print(''.join([str(f.get((x,y),'.')) for x in range(max_x+1)]))\n",
    "\n",
    "\n",
    "field = dict()\n",
    "for line in open('i'):\n",
    "    a,_,b = line.split()\n",
    "    a,b = sorted([*map(int,p.split(','))] for p in (a, b))\n",
    "    if a[0] == b[0]:\n",
    "        for y in range(a[1], b[1]+1):\n",
    "            field[a[0],y]=field.get((a[0],y),0)+1\n",
    "    elif a[1] == b[1]:\n",
    "        for x in range(a[0],b[0]+1):\n",
    "            field[x,a[1]]=field.get((x,a[1]),0)+1\n",
    "    else:\n",
    "        for d in range(abs(a[0]-b[0]+1)):\n",
    "            if a[1]<b[1]:\n",
    "                field[a[0]+d,a[1]+d]=field.get((a[0]+d,a[1]+d),0)+1\n",
    "            else:\n",
    "                field[a[0]+d,a[1]-d]=field.get((a[0]+d,a[1]-d),0)+1\n",
    "\n",
    "\n",
    "print(sum(field[k]>1 for k in field))"
   ]
  },
  {
   "cell_type": "code",
   "execution_count": 39,
   "metadata": {},
   "outputs": [
    {
     "name": "stdout",
     "output_type": "stream",
     "text": [
      "16518\n"
     ]
    }
   ],
   "source": [
    "field = dict()\n",
    "\n",
    "def draw_line(x1, y1, x2, y2):\n",
    "    length = abs(max(x2-x1,y2-y1))+1\n",
    "    xs = [x1+i*(x1!=x2) for i in range(length)]\n",
    "    ys = [y1+i*(y2-y1)//(length-1) for i in range(length)]\n",
    "    return zip(xs, ys)\n",
    "\n",
    "for line in open('i'):\n",
    "    a,_,b = line.split()\n",
    "    a,b = sorted([*map(int,p.split(','))] for p in (a, b))\n",
    "    for x,y in draw_line(a[0], a[1], b[0], b[1]):\n",
    "        if (x,y) in field:\n",
    "            field[x,y]+=1\n",
    "        else:\n",
    "            field[x,y]=1\n",
    "\n",
    "\n",
    "print(sum(field[k]>1 for k in field))"
   ]
  },
  {
   "cell_type": "code",
   "execution_count": 42,
   "metadata": {},
   "outputs": [
    {
     "name": "stdout",
     "output_type": "stream",
     "text": [
      "16518\n"
     ]
    }
   ],
   "source": [
    "d=lambda a,b,c,d:[(a+i*(a!=c),b+i*(d-b)//abs(max(c-a,d-b))) for i in range(abs(max(c-a,d-b))+1)]\n",
    "field = dict()\n",
    "for line in open('i'):\n",
    "    a,_,b = line.split()\n",
    "    a,b = sorted([*map(int,p.split(','))] for p in (a, b))\n",
    "    for x,y in d(a[0], a[1], b[0], b[1]):\n",
    "        if (x,y) in field:\n",
    "            field[x,y]+=1\n",
    "        else:\n",
    "            field[x,y]=1\n",
    "\n",
    "\n",
    "print(sum(field[k]>1 for k in field))"
   ]
  },
  {
   "cell_type": "code",
   "execution_count": 44,
   "metadata": {},
   "outputs": [
    {
     "name": "stdout",
     "output_type": "stream",
     "text": [
      "16518\n"
     ]
    }
   ],
   "source": [
    "d=lambda a,b,c,d:[(a+i*(a!=c),b+i*(d-b)//abs(max(c-a,d-b))) for i in range(abs(max(c-a,d-b))+1)]\n",
    "\n",
    "field = dict()\n",
    "for l in open('i'):\n",
    "    a,b = sorted([*map(int,p.split(','))] for p in l.split() if p!='->')\n",
    "    for x,y in d(a[0], a[1], b[0], b[1]):\n",
    "        if (x,y) in field:\n",
    "            field[x,y]+=1\n",
    "        else:\n",
    "            field[x,y]=1\n",
    "\n",
    "\n",
    "print(sum(field[k]>1 for k in field))"
   ]
  },
  {
   "cell_type": "code",
   "execution_count": 51,
   "metadata": {},
   "outputs": [
    {
     "name": "stdout",
     "output_type": "stream",
     "text": [
      "16518\n"
     ]
    }
   ],
   "source": [
    "d=lambda a,b,c,d:[(a+i*(a!=c),b+i*(d-b)//abs(max(c-a,d-b))) for i in range(abs(max(c-a,d-b))+1)]\n",
    "\n",
    "field = dict()\n",
    "for l in open('i'):\n",
    "    for x,y in d(*sum(sorted([*map(int,p.split(','))] for p in l.split() if p!='->'),[])):\n",
    "        if (x,y) in field:\n",
    "\n",
    "            field[x,y]+=1\n",
    "        else:\n",
    "            field[x,y]=1\n",
    "\n",
    "\n",
    "print(sum(field[k]>1 for k in field))"
   ]
  },
  {
   "cell_type": "code",
   "execution_count": 138,
   "metadata": {},
   "outputs": [
    {
     "ename": "SyntaxError",
     "evalue": "Generator expression must be parenthesized (4090033930.py, line 1)",
     "output_type": "error",
     "traceback": [
      "\u001b[0;36m  File \u001b[0;32m\"/var/folders/pr/xrwsh52s27d30qww052h5q1h0000gn/T/ipykernel_95061/4090033930.py\"\u001b[0;36m, line \u001b[0;32m1\u001b[0m\n\u001b[0;31m    d=lambda a,b,c,d:[(a+i*(a!=c),b+i*(d>b)-i*(d<b))for i in range(abs(max(c-a,d-b))+1)];p=sum([d(*sum([*map(int,p.split(','))]for p in l.split('->'),[]))for l in open('i')],[]);u=set(p);print(len({e for e in p if e not in u or u.remove(e)}))\u001b[0m\n\u001b[0m                                                                                                       ^\u001b[0m\n\u001b[0;31mSyntaxError\u001b[0m\u001b[0;31m:\u001b[0m Generator expression must be parenthesized\n"
     ]
    }
   ],
   "source": [
    "d=lambda a,b,c,d:[(a+i*(a!=c),b+i*(d>b)-i*(d<b))for i in range(abs(max(c-a,d-b))+1)];p=sum([d(*sum(sorted([*map(int,p.split(','))]for p in l.split('->')),[]))for l in open('i')],[]);u=set(p);print(len({e for e in p if e not in u or u.remove(e)}))\n",
    "\n",
    "len(\"d=lambda a,b,c,d:[(a+i*(a!=c),b+i*(d>b)-i*(d<b))for i in range(abs(max(c-a,d-b))+1)];p=sum([d(*sum(sorted([*map(int,p.split(','))]for p in l.split('->')),[]))for l in open('i')],[]);u=set(p);print(len({e for e in p if e not in u or u.remove(e)}))\")"
   ]
  },
  {
   "cell_type": "code",
   "execution_count": 133,
   "metadata": {},
   "outputs": [
    {
     "ename": "TypeError",
     "evalue": "descriptor '__eq__' requires a 'int' object but received a 'tuple'",
     "output_type": "error",
     "traceback": [
      "\u001b[0;31m---------------------------------------------------------------------------\u001b[0m",
      "\u001b[0;31mTypeError\u001b[0m                                 Traceback (most recent call last)",
      "\u001b[0;32m/var/folders/pr/xrwsh52s27d30qww052h5q1h0000gn/T/ipykernel_95061/2815830995.py\u001b[0m in \u001b[0;36m<module>\u001b[0;34m\u001b[0m\n\u001b[1;32m      4\u001b[0m \u001b[0;31m# print(sum(a==(a:=b) and b<(b:=c) for c in p))\u001b[0m\u001b[0;34m\u001b[0m\u001b[0;34m\u001b[0m\u001b[0;34m\u001b[0m\u001b[0m\n\u001b[1;32m      5\u001b[0m \u001b[0;31m# print(sum(p[i]==p[i+1]!=p[i+2]for i in range(len(p)-2)))\u001b[0m\u001b[0;34m\u001b[0m\u001b[0;34m\u001b[0m\u001b[0;34m\u001b[0m\u001b[0m\n\u001b[0;32m----> 6\u001b[0;31m \u001b[0mprint\u001b[0m\u001b[0;34m(\u001b[0m\u001b[0msum\u001b[0m\u001b[0;34m(\u001b[0m\u001b[0mmap\u001b[0m\u001b[0;34m(\u001b[0m\u001b[0mall\u001b[0m\u001b[0;34m,\u001b[0m\u001b[0mmap\u001b[0m\u001b[0;34m(\u001b[0m\u001b[0mint\u001b[0m\u001b[0;34m.\u001b[0m\u001b[0m__eq__\u001b[0m\u001b[0;34m,\u001b[0m\u001b[0mp\u001b[0m\u001b[0;34m,\u001b[0m \u001b[0mp\u001b[0m\u001b[0;34m[\u001b[0m\u001b[0;36m1\u001b[0m\u001b[0;34m:\u001b[0m\u001b[0;34m]\u001b[0m\u001b[0;34m)\u001b[0m\u001b[0;34m,\u001b[0m\u001b[0mmap\u001b[0m\u001b[0;34m(\u001b[0m\u001b[0mint\u001b[0m\u001b[0;34m.\u001b[0m\u001b[0m__ne__\u001b[0m\u001b[0;34m,\u001b[0m \u001b[0mp\u001b[0m\u001b[0;34m[\u001b[0m\u001b[0;36m1\u001b[0m\u001b[0;34m:\u001b[0m\u001b[0;34m]\u001b[0m\u001b[0;34m,\u001b[0m\u001b[0mp\u001b[0m\u001b[0;34m[\u001b[0m\u001b[0;36m2\u001b[0m\u001b[0;34m:\u001b[0m\u001b[0;34m]\u001b[0m\u001b[0;34m)\u001b[0m\u001b[0;34m)\u001b[0m\u001b[0;34m)\u001b[0m\u001b[0;34m)\u001b[0m\u001b[0;34m\u001b[0m\u001b[0;34m\u001b[0m\u001b[0m\n\u001b[0m\u001b[1;32m      7\u001b[0m \u001b[0;34m\u001b[0m\u001b[0m\n\u001b[1;32m      8\u001b[0m \u001b[0;34m\u001b[0m\u001b[0m\n",
      "\u001b[0;31mTypeError\u001b[0m: descriptor '__eq__' requires a 'int' object but received a 'tuple'"
     ]
    }
   ],
   "source": [
    "d=lambda a,b,c,d:[(a+i*(a!=c),b+i*(d-b)//abs(max(c-a,d-b)))for i in range(abs(max(c-a,d-b))+1)]\n",
    "p=sorted(sum([d(*sum(sorted([*map(int,p.split(','))]for p in l.split()if p!='->'),[]))for l in open('i')],[]))\n",
    "# a,b,*p=p\n",
    "# print(sum(a==(a:=b) and b<(b:=c) for c in p))\n",
    "# print(sum(p[i]==p[i+1]!=p[i+2]for i in range(len(p)-2)))\n",
    "# print(sum(map(all,map(int.__eq__,p, p[1:]),map(int.__ne__, p[1:],p[2:]))))\n",
    "\n",
    "\n",
    "\n",
    "len(\"d=lambda a,b,c,d:[(a+i*(a!=c),b+i*(d-b)//abs(max(c-a,d-b)))for i in range(abs(max(c-a,d-b))+1)];p=sorted(sum([d(*sum(sorted([*map(int,p.split(','))]for p in l.split()if p!='->'),[]))for l in open('i')],[]));a,b,*p=p;print(sum(a==(a:=b)!=(b:=c) for c in p))\")"
   ]
  },
  {
   "cell_type": "code",
   "execution_count": 124,
   "metadata": {},
   "outputs": [
    {
     "name": "stdout",
     "output_type": "stream",
     "text": [
      "[(1, 2, 3), (2, 3, 4), (3, 4, 5)]\n",
      "[False, False, False]\n"
     ]
    }
   ],
   "source": [
    "x = [1,2,3,4,5]\n",
    "\n",
    "a,b,*x=x\n",
    "print(list((a,(a:=b),(b:=c)) for c in x))\n",
    "print(list(a==(a:=b) and b<(b:=c) for c in x))"
   ]
  },
  {
   "cell_type": "code",
   "execution_count": 99,
   "metadata": {},
   "outputs": [
    {
     "data": {
      "text/plain": [
       "(1, 2, [3, 4])"
      ]
     },
     "execution_count": 99,
     "metadata": {},
     "output_type": "execute_result"
    }
   ],
   "source": [
    "a,b,*c=x\n",
    "a,b,c"
   ]
  },
  {
   "cell_type": "code",
   "execution_count": 120,
   "metadata": {},
   "outputs": [
    {
     "data": {
      "text/plain": [
       "False"
      ]
     },
     "execution_count": 120,
     "metadata": {},
     "output_type": "execute_result"
    }
   ],
   "source": [
    "1==1!=1"
   ]
  },
  {
   "cell_type": "code",
   "execution_count": 131,
   "metadata": {},
   "outputs": [
    {
     "data": {
      "text/plain": [
       "True"
      ]
     },
     "execution_count": 131,
     "metadata": {},
     "output_type": "execute_result"
    }
   ],
   "source": [
    "bool(tuple([0,0]))"
   ]
  }
 ],
 "metadata": {
  "interpreter": {
   "hash": "2a15b5884ee2cc9180c3fad60afb999633c0c6f349efbc5498ac7868b0ce4ae8"
  },
  "kernelspec": {
   "display_name": "Python 3.8.12 64-bit ('advent_of_code': conda)",
   "language": "python",
   "name": "python3"
  },
  "language_info": {
   "codemirror_mode": {
    "name": "ipython",
    "version": 3
   },
   "file_extension": ".py",
   "mimetype": "text/x-python",
   "name": "python",
   "nbconvert_exporter": "python",
   "pygments_lexer": "ipython3",
   "version": "3.8.12"
  },
  "orig_nbformat": 4
 },
 "nbformat": 4,
 "nbformat_minor": 2
}
